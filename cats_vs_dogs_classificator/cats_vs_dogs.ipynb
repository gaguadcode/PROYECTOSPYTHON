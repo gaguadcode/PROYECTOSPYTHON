{
 "cells": [
  {
   "cell_type": "code",
   "execution_count": null,
   "metadata": {},
   "outputs": [],
   "source": [
    "# Descargar el conjunto de datos\n",
    "if os.path.exists('kaggle-cat-vs-dog-dataset.zip') is False:\n",
    "api.dataset_download_files('karakaggle/kaggle-cat-vs-dog-dataset')\n",
    "# kaggle datasets download -d karakaggle/kaggle-cat-vs-dog-dataset\n",
    "# Descomprimir el archivo descargado\n",
    "if os.path.exists('dogs_vs_cats\\\\kagglecatsanddogs_3367a\\\\PetImages') is False:\n",
    "with zipfile.ZipFile('kaggle-cat-vs-dog-dataset.zip', 'r') as file:\n",
    "file.extractall('dogs_vs_cats')"
   ]
  },
  {
   "cell_type": "code",
   "execution_count": null,
   "metadata": {},
   "outputs": [],
   "source": [
    "def cargar_y_preprocesar_imagen(ruta_imagen, tamano=(64, 64)):\n",
    "# Cargar la imagen\n",
    "imagen = Image.open(ruta_imagen).convert('RGB')\n",
    "imagen = imagen.resize(tamano)\n",
    "imagen = np.array(imagen)\n",
    "imagen = imagen"
   ]
  },
  {
   "cell_type": "code",
   "execution_count": null,
   "metadata": {},
   "outputs": [],
   "source": [
    "# Rutas a las carpetas de gatos y perros\n",
    "ruta_gatos =\n",
    "'D:\\\\ProyectosPython\\\\dogs_vs_cats\\\\kagglecatsanddogs_3367a\\\\PetImages\\\\Cat'\n",
    "ruta_perros =\n",
    "'D:\\\\ProyectosPython\\\\dogs_vs_cats\\\\kagglecatsanddogs_3367a\\\\PetImages\\\\Dog'\n",
    "# Cargar y preprocesar imágenes\n",
    "imagenes = []\n",
    "etiquetas = []\n",
    "# Cargar gatos\n",
    "for archivo in os.listdir(ruta_gatos):\n",
    "ruta_completa = os.path.join(ruta_gatos, archivo)\n",
    "# Lista de extensiones permitidas\n",
    "extensiones_permitidas = ['.jpg', '\n",
    ".jpeg', '.png', '\n",
    ".bmp']\n",
    "_, extension = os.path.splitext(archivo)\n",
    "# otra opción podría ser ruta_imagen[-4:].lower() para obtener la extensión pero\n",
    "mejor así.\n",
    "# Comprobar que la extensión es una de las permitidas\n",
    "if (extension.lower() in extensiones_permitidas):\n",
    "try:\n",
    "img = cargar_y_preprocesar_imagen(ruta_completa)\n",
    "imagenes.append(img)\n",
    "etiquetas.append(0) # 0 para gatos\n",
    "except:\n",
    "print(f\"No se pudo cargar la imagen {archivo}\")\n",
    "else:\n",
    "continue"
   ]
  },
  {
   "cell_type": "code",
   "execution_count": null,
   "metadata": {},
   "outputs": [],
   "source": [
    "# Cargar perros\n",
    "for archivo in os.listdir(ruta_perros):\n",
    "ruta_completa = os.path.join(ruta_perros, archivo)\n",
    "# Lista de extensiones permitidas\n",
    "extensiones_permitidas = ['.jpg', '\n",
    ".jpeg', '.png', '\n",
    ".bmp']\n",
    "_, extension = os.path.splitext(archivo)\n",
    "# otra opción podría ser ruta_imagen[-4:].lower() para obtener la extensión pero\n",
    "mejor así.\n",
    "# Comprobar que la extensión es una de las permitidas\n",
    "if (extension.lower() in extensiones_permitidas):\n",
    "try:\n",
    "img = cargar_y_preprocesar_imagen(ruta_completa)\n",
    "imagenes.append(img)\n",
    "etiquetas.append(1) # 1 para perros\n",
    "except:\n",
    "print(f\"No se pudo cargar la imagen {archivo}\")\n",
    "else:\n",
    "continue\n",
    "\n",
    "from utils import cargar_y_preprocesar_imagen\n",
    "También necesitamos import os"
   ]
  },
  {
   "cell_type": "code",
   "execution_count": null,
   "metadata": {},
   "outputs": [],
   "source": [
    "# Convertir listas a arrays de Numpy\n",
    "imagenes = np.array(imagenes)\n",
    "etiquetas = np.array(etiquetas)\n",
    "X_train, X_test, y_train, y_test = train_test_split(imagenes, etiquetas,\n",
    "test_size=0.2, random_state=42)\n",
    "# Construcción del modelo\n",
    "modelo = Sequential([\n",
    "Conv2D(32, (3, 3), activation=\n",
    "'relu', input_shape=(64, 64, 3)),\n",
    "MaxPooling2D(2, 2),\n",
    "Conv2D(64, (3, 3), activation=\n",
    "'relu'),\n",
    "MaxPooling2D(2, 2),\n",
    "Flatten(),\n",
    "Dense(128, activation=\n",
    "'relu'),\n",
    "Dense(1, activation=\n",
    "'sigmoid')\n",
    "])\n",
    "# Compilación del modelo\n",
    "modelo.compile(optimizer=\n",
    "'adam', loss=\n",
    "'binary_crossentropy', metrics=['accuracy'])"
   ]
  },
  {
   "cell_type": "code",
   "execution_count": null,
   "metadata": {},
   "outputs": [],
   "source": [
    "# Entrenamiento del modelo\n",
    "modelo.fit(X_train, y_train, epochs=10, validation_data=(X_test, y_test))\n",
    "# Evaluar el modelo\n",
    "evaluacion = modelo.evaluate(X_test, y_test)\n",
    "print(f\"Test Accuracy: {evaluacion[1] * 100}%\")\n",
    "modelo.save('modelo_cats_vs_dogs.keras') # Guarda el modelo en un archivo .keras"
   ]
  },
  {
   "cell_type": "code",
   "execution_count": null,
   "metadata": {},
   "outputs": [],
   "source": [
    "def predecir_imagen(ruta_imagen):\n",
    "modelo = load_model('modelo_cats_vs_dogs.keras')\n",
    "imagen = cargar_y_preprocesar_imagen(ruta_imagen)\n",
    "imagen = np.expand_dims(imagen, axis=0)\n",
    "prediccion = modelo.predict(imagen)\n",
    "if prediccion[0][0] > 0.5:\n",
    "print(\"Es un perro\")\n",
    "else:\n",
    "print(\"Es un gato\")"
   ]
  },
  {
   "cell_type": "code",
   "execution_count": null,
   "metadata": {},
   "outputs": [],
   "source": [
    "from keras.models import load_model\n",
    "from utils import cargar_y_preprocesar_imagen, predecir_imagen\n",
    "modelo = load_model('modelo_cats_vs_dogs.keras')\n",
    "predecir_imagen(modelo,\n",
    "'dogs_vs_cats/predict/puppy01.jpg')\n",
    "predecir_imagen(modelo,\n",
    "'dogs_vs_cats/predict/unknown.png')\n",
    "predecir_imagen(modelo,\n",
    "'dogs_vs_cats/predict/unknown1.png')\n",
    "predecir_imagen(modelo,\n",
    "'dogs_vs_cats/predict/gato1.jpg')\n",
    "predecir_imagen(modelo,\n",
    "'dogs_vs_cats/predict/gato2.jpg')"
   ]
  }
 ],
 "metadata": {
  "language_info": {
   "name": "python"
  }
 },
 "nbformat": 4,
 "nbformat_minor": 2
}
