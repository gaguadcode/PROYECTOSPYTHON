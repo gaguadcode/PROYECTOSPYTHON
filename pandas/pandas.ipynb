{
 "cells": [
  {
   "cell_type": "code",
   "execution_count": 2,
   "metadata": {},
   "outputs": [],
   "source": [
    "import pandas as pd"
   ]
  },
  {
   "cell_type": "code",
   "execution_count": null,
   "metadata": {},
   "outputs": [],
   "source": [
    "import pandas as pd\n",
    "\n",
    "# 1. Crear una Serie de Pandas a partir de una lista de números.\n",
    "lista_numeros = [0, 1] + [lista_numeros[i-1] + lista_numeros[i-2] for i in range(2, 10)]\n",
    "\n",
    "serie = pd.Series(lista_numeros, name=\"Numeros\")\n",
    "\n",
    "# 2. Mostrar la Serie.\n",
    "print(\"Serie Original:\\n\", serie)\n",
    "\n",
    "# 3. Agregar un nuevo elemento a la Serie.\n",
    "nuevo_elemento = 6\n",
    "serie = serie.append(pd.Series([nuevo_elemento], index=[f\"Elemento{len(serie)+1}\"]))\n",
    "\n",
    "# 4. Quitar un elemento de la Serie.\n",
    "elemento_a_quitar = \"Elemento2\"\n",
    "serie = serie.drop(elemento_a_quitar)\n",
    "\n",
    "# 5. Realizar operaciones aritméticas básicas.\n",
    "# Suma\n",
    "suma_resultado = serie.sum()\n",
    "\n",
    "# Resta\n",
    "resta_resultado = serie.subtract(2)\n",
    "\n",
    "# Multiplicación\n",
    "multiplicacion_resultado = serie.multiply(3)\n",
    "\n",
    "# División\n",
    "division_resultado = serie.divide(2)\n",
    "\n",
    "# 6. Mostrar los resultados de cada operación.\n",
    "print(\"\\nResultados de Operaciones Aritméticas:\")\n",
    "print(f\"Suma:\\n{suma_resultado}\\n\")\n",
    "print(f\"Resta (2 restado de cada elemento):\\n{resta_resultado}\\n\")\n",
    "print(f\"Multiplicación (cada elemento multiplicado por 3):\\n{multiplicacion_resultado}\\n\")\n",
    "print(f\"División (cada elemento dividido por 2):\\n{division_resultado}\")\n"
   ]
  }
 ],
 "metadata": {
  "kernelspec": {
   "display_name": "sd",
   "language": "python",
   "name": "python3"
  },
  "language_info": {
   "codemirror_mode": {
    "name": "ipython",
    "version": 3
   },
   "file_extension": ".py",
   "mimetype": "text/x-python",
   "name": "python",
   "nbconvert_exporter": "python",
   "pygments_lexer": "ipython3",
   "version": "3.10.6"
  }
 },
 "nbformat": 4,
 "nbformat_minor": 2
}
