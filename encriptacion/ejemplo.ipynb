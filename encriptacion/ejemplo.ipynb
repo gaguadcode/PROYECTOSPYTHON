{
 "cells": [
  {
   "cell_type": "code",
   "execution_count": 2,
   "metadata": {},
   "outputs": [
    {
     "name": "stdout",
     "output_type": "stream",
     "text": [
      "2e2ce1aea130e3dc0844014e8d8e6702e2b49fd7ce7e60f36ac485877ed15824\n"
     ]
    }
   ],
   "source": [
    "from claseencriptacion import HashConSalt\n",
    "import dotenv\n",
    "import os\n",
    "\n",
    "\n",
    "# Obtener el salt del archivo .env\n",
    "salt_from_env = os.environ.get(\"SALT\")\n",
    "\n",
    "# Configurar el salt en la clase\n",
    "HashConSalt.configurar_salt(salt_from_env)\n",
    "\n",
    "# Crear una instancia de la clase HashConSalt\n",
    "hash_con_salt_instancia = HashConSalt()\n",
    "\n",
    "# Ejemplo de uso\n",
    "nombre_anonimizado = hash_con_salt_instancia.hash_nombre_apellido(\"Juan\", \"Pérez\")\n",
    "print(nombre_anonimizado)"
   ]
  },
  {
   "cell_type": "code",
   "execution_count": null,
   "metadata": {},
   "outputs": [],
   "source": []
  }
 ],
 "metadata": {
  "kernelspec": {
   "display_name": "sd",
   "language": "python",
   "name": "python3"
  },
  "language_info": {
   "codemirror_mode": {
    "name": "ipython",
    "version": 3
   },
   "file_extension": ".py",
   "mimetype": "text/x-python",
   "name": "python",
   "nbconvert_exporter": "python",
   "pygments_lexer": "ipython3",
   "version": "3.10.6"
  }
 },
 "nbformat": 4,
 "nbformat_minor": 2
}
