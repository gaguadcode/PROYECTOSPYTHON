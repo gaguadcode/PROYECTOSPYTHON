{
 "cells": [
  {
   "cell_type": "code",
   "execution_count": 1,
   "id": "8fedffae-5799-466c-9726-21f3de071ddc",
   "metadata": {},
   "outputs": [
    {
     "name": "stdout",
     "output_type": "stream",
     "text": [
      "Hello world\n"
     ]
    }
   ],
   "source": [
    "print(\"Hello world\")"
   ]
  },
  {
   "cell_type": "markdown",
   "id": "8235ae5d-e9e0-4898-a38f-eedce6541bfd",
   "metadata": {},
   "source": [
    "# Esto es una prueba"
   ]
  },
  {
   "cell_type": "code",
   "execution_count": 2,
   "id": "226025c3-62fa-4708-b143-a9469443e828",
   "metadata": {},
   "outputs": [
    {
     "name": "stdout",
     "output_type": "stream",
     "text": [
      "(1, 2, 3, 4)\n"
     ]
    }
   ],
   "source": [
    "mi_tupla = 1,2,3,4\n",
    "print(mi_tupla)"
   ]
  },
  {
   "cell_type": "code",
   "execution_count": 4,
   "id": "a01d86a2-3014-4877-a75e-2af18fdce758",
   "metadata": {},
   "outputs": [
    {
     "name": "stdout",
     "output_type": "stream",
     "text": [
      "['1', '2', '3']\n"
     ]
    }
   ],
   "source": [
    "lista = list('123')\n",
    "print(lista)"
   ]
  },
  {
   "cell_type": "code",
   "execution_count": 5,
   "id": "9ba0f1a5",
   "metadata": {},
   "outputs": [
    {
     "name": "stdout",
     "output_type": "stream",
     "text": [
      "1000000000.000000001\n"
     ]
    }
   ],
   "source": [
    "from decimal import Decimal, getcontext\n",
    "getcontext().prec = 20\n",
    "entero = Decimal('1000000000')\n",
    "double= Decimal('0.000000001')\n",
    "print(double + entero)"
   ]
  },
  {
   "cell_type": "code",
   "execution_count": 7,
   "id": "7b98c076",
   "metadata": {},
   "outputs": [],
   "source": [
    "lista = [['pedro',['python','SQL']], ['manolo',['java','C++','javascript']],['Alejandro',['HTML','CSS', 'Javascript']]]"
   ]
  },
  {
   "cell_type": "code",
   "execution_count": 8,
   "id": "e6dc554b",
   "metadata": {},
   "outputs": [],
   "source": [
    "import copy\n",
    "lista_shallow = copy.copy(lista)\n",
    "lista_deep = copy.deepcopy(lista)"
   ]
  },
  {
   "cell_type": "code",
   "execution_count": 9,
   "id": "8fa1e4b5",
   "metadata": {},
   "outputs": [],
   "source": [
    "lista_shallow[0][0] = 'Ramon'"
   ]
  },
  {
   "cell_type": "code",
   "execution_count": 10,
   "id": "50722e38",
   "metadata": {},
   "outputs": [
    {
     "name": "stdout",
     "output_type": "stream",
     "text": [
      "[['Ramon', ['python', 'SQL']], ['manolo', ['java', 'C++', 'javascript']], ['Alejandro', ['HTML', 'CSS', 'Javascript']]] [['Ramon', ['python', 'SQL']], ['manolo', ['java', 'C++', 'javascript']], ['Alejandro', ['HTML', 'CSS', 'Javascript']]] [['pedro', ['python', 'SQL']], ['manolo', ['java', 'C++', 'javascript']], ['Alejandro', ['HTML', 'CSS', 'Javascript']]]\n"
     ]
    }
   ],
   "source": [
    "print(lista,lista_shallow,lista_deep)"
   ]
  },
  {
   "cell_type": "code",
   "execution_count": 11,
   "id": "eac72f2d",
   "metadata": {},
   "outputs": [],
   "source": [
    "tupla_mixta = ('gato', 8, [1,2,3], (['perro'],['pajaro'],['conejo']), 47.9)"
   ]
  },
  {
   "cell_type": "code",
   "execution_count": 14,
   "id": "a270f98a",
   "metadata": {},
   "outputs": [
    {
     "name": "stdout",
     "output_type": "stream",
     "text": [
      "['gato', 8, [1, 2, 3], (['perro'], ['pajaro'], ['conejo']), 47.9]\n"
     ]
    }
   ],
   "source": [
    "lista_mixta = list(tupla_mixta)\n",
    "print(lista_mixta)"
   ]
  },
  {
   "cell_type": "code",
   "execution_count": 18,
   "id": "9a3ffb55",
   "metadata": {},
   "outputs": [],
   "source": [
    "tupla_numeric = [x for x in tupla_mixta if type(x) == int]"
   ]
  },
  {
   "cell_type": "code",
   "execution_count": 20,
   "id": "c745f4de",
   "metadata": {},
   "outputs": [
    {
     "name": "stdout",
     "output_type": "stream",
     "text": [
      "[8]\n"
     ]
    }
   ],
   "source": [
    "print(tupla_numeric)"
   ]
  },
  {
   "cell_type": "code",
   "execution_count": 23,
   "id": "185773ad",
   "metadata": {},
   "outputs": [
    {
     "name": "stdout",
     "output_type": "stream",
     "text": [
      "77\n",
      "0\n",
      "247\n"
     ]
    }
   ],
   "source": [
    "tupla_num = (5,35,5,66,46,6,7,77,0)\n",
    "print(max(tupla_num))\n",
    "print(min(tupla_num))\n",
    "print(sum(tupla_num))\n"
   ]
  },
  {
   "cell_type": "code",
   "execution_count": 25,
   "id": "042a5ad3",
   "metadata": {},
   "outputs": [
    {
     "name": "stdout",
     "output_type": "stream",
     "text": [
      "[25, 1225, 25, 4356, 2116, 36, 49, 5929, 0]\n"
     ]
    }
   ],
   "source": [
    "cuadrados = [item**2 for item in tupla_num]\n",
    "print(cuadrados)"
   ]
  },
  {
   "cell_type": "code",
   "execution_count": 28,
   "id": "4f19c104",
   "metadata": {},
   "outputs": [],
   "source": [
    "temperaturas = [-100,-70,-260,0,-230,-200,-80,-250]\n",
    "temperaturas = [x for x in temperaturas if x > -147]"
   ]
  },
  {
   "cell_type": "code",
   "execution_count": 29,
   "id": "de1d8f2a",
   "metadata": {},
   "outputs": [
    {
     "name": "stdout",
     "output_type": "stream",
     "text": [
      "[-100, -70, 0, -80]\n"
     ]
    }
   ],
   "source": [
    "print(temperaturas)"
   ]
  },
  {
   "cell_type": "code",
   "execution_count": 30,
   "id": "16bebd02",
   "metadata": {},
   "outputs": [
    {
     "name": "stdout",
     "output_type": "stream",
     "text": [
      "Diccionario de Canciones:\n",
      "{'Imagine': 3.0, 'Bohemian Rhapsody': 6.0, 'Hey Jude': 7.5, 'Hotel California': 6.5, 'La Bamba': 2.5, 'Cielito Lindo': 3.2, 'Besame Mucho': 4.0, 'El Rey': 3.8}\n",
      "\n",
      "Top 3 Canciones Más Largas:\n",
      "{'Hey Jude': 7.5, 'Hotel California': 6.5, 'Bohemian Rhapsody': 6.0}\n",
      "\n",
      "Selección Aleatoria de Canciones:\n",
      "{'Imagine': 3.0, 'Hey Jude': 7.5}\n"
     ]
    },
    {
     "name": "stderr",
     "output_type": "stream",
     "text": [
      "C:\\Users\\Admin\\AppData\\Local\\Temp\\ipykernel_1240\\3157635613.py:21: DeprecationWarning: Sampling from a set deprecated\n",
      "since Python 3.9 and will be removed in a subsequent version.\n",
      "  canciones_aleatorias = dict(random.sample(canciones_dict.items(), num_canciones_aleatorias))\n"
     ]
    }
   ],
   "source": [
    "import random\n",
    "\n",
    "# Listas de canciones y sus duraciones en minutos\n",
    "canciones_ingles = [\"Imagine\", \"Bohemian Rhapsody\", \"Hey Jude\", \"Hotel California\"]\n",
    "duracion_ingles = [3.0, 6.0, 7.5, 6.5]\n",
    "\n",
    "canciones_espanol = [\"La Bamba\", \"Cielito Lindo\", \"Besame Mucho\", \"El Rey\"]\n",
    "duracion_espanol = [2.5, 3.2, 4.0, 3.8]\n",
    "\n",
    "# Combinar las dos listas en un diccionario usando zip\n",
    "canciones_dict = dict(zip(canciones_ingles + canciones_espanol, duracion_ingles + duracion_espanol))\n",
    "\n",
    "# Ordenar el diccionario por duración de canciones de mayor a menor\n",
    "canciones_ordenadas = dict(sorted(canciones_dict.items(), key=lambda item: item[1], reverse=True))\n",
    "\n",
    "# Seleccionar las 3 canciones más largas\n",
    "top_3_canciones = dict(list(canciones_ordenadas.items())[:3])\n",
    "\n",
    "# Seleccionar aleatoriamente algunas canciones\n",
    "num_canciones_aleatorias = 2\n",
    "canciones_aleatorias = dict(random.sample(canciones_dict.items(), num_canciones_aleatorias))\n",
    "\n",
    "# Mostrar resultados\n",
    "print(\"Diccionario de Canciones:\")\n",
    "print(canciones_dict)\n",
    "\n",
    "print(\"\\nTop 3 Canciones Más Largas:\")\n",
    "print(top_3_canciones)\n",
    "\n",
    "print(\"\\nSelección Aleatoria de Canciones:\")\n",
    "print(canciones_aleatorias)"
   ]
  },
  {
   "cell_type": "code",
   "execution_count": null,
   "id": "1688fd5d",
   "metadata": {},
   "outputs": [],
   "source": []
  }
 ],
 "metadata": {
  "kernelspec": {
   "display_name": "Python 3 (ipykernel)",
   "language": "python",
   "name": "python3"
  },
  "language_info": {
   "codemirror_mode": {
    "name": "ipython",
    "version": 3
   },
   "file_extension": ".py",
   "mimetype": "text/x-python",
   "name": "python",
   "nbconvert_exporter": "python",
   "pygments_lexer": "ipython3",
   "version": "3.10.6"
  }
 },
 "nbformat": 4,
 "nbformat_minor": 5
}
