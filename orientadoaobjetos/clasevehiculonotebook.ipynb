{
 "cells": [
  {
   "cell_type": "code",
   "execution_count": 17,
   "metadata": {},
   "outputs": [],
   "source": [
    "from abc import ABC, abstractmethod\n",
    "\n",
    "class Vehiculo(ABC):\n",
    "    def __init__(self, marca, modelo, estado):\n",
    "        self.marca = marca\n",
    "        self.modelo = modelo\n",
    "        self._estado = estado  # Atributo protegido\n",
    "    @property\n",
    "    def estado(self):\n",
    "        return self._estado\n",
    "\n",
    "    @estado.setter\n",
    "    def estado(self, nuevo_estado):\n",
    "        self._estado = nuevo_estado\n",
    "\n",
    "    @abstractmethod\n",
    "    def acelerar(self):\n",
    "        pass\n",
    "\n",
    "    @abstractmethod\n",
    "    def frenar(self):\n",
    "        pass\n",
    "\n",
    "    def encender(self):\n",
    "        self._estado = 'encendido'\n",
    "        print(f\"{self.marca} {self.modelo} ha sido encendido.\")\n",
    "\n",
    "    def apagar(self):\n",
    "        self._estado = 'apagado'\n",
    "        print(f\"{self.marca} {self.modelo} ha sido apagado.\")\n",
    "\n",
    "class Coche(Vehiculo):\n",
    "    def __init__(self,  marca, modelo, estado, ruedas):\n",
    "        super().__init__(self, marca, modelo, estado)\n",
    "        self._ruedas = ruedas\n",
    "    def acelerar(self):\n",
    "        print(f\"{self.marca} {self.modelo} acelerando.\")\n",
    "\n",
    "    def frenar(self):\n",
    "        print(f\"{self.marca} {self.modelo} frenando.\")\n",
    "    @staticmethod\n",
    "    def numero_ruedas(self):\n",
    "        print(f'el coche tiene {self._ruedas}')\n",
    "class Moto(Vehiculo):\n",
    "    def __init__(self,  marca, modelo, estado, ruedas):\n",
    "        super().__init__(self, marca, modelo, estado)\n",
    "        self._ruedas = ruedas\n",
    "    def acelerar(self):\n",
    "        print(f\"{self.marca} {self.modelo} acelerando fuertemente.\")\n",
    "\n",
    "    def frenar(self):\n",
    "        print(f\"{self.marca} {self.modelo} frenando bruscamente.\")\n",
    "    @staticmethod\n",
    "    def numero_ruedas(self):\n",
    "        self._ruedas = 2\n",
    "        print(f'la moto tiene {self._ruedas}')"
   ]
  },
  {
   "cell_type": "code",
   "execution_count": 23,
   "metadata": {},
   "outputs": [
    {
     "ename": "TypeError",
     "evalue": "Vehiculo.__init__() takes 4 positional arguments but 5 were given",
     "output_type": "error",
     "traceback": [
      "\u001b[1;31m---------------------------------------------------------------------------\u001b[0m",
      "\u001b[1;31mTypeError\u001b[0m                                 Traceback (most recent call last)",
      "Cell \u001b[1;32mIn[23], line 2\u001b[0m\n\u001b[0;32m      1\u001b[0m \u001b[38;5;66;03m# Ejemplo de uso\u001b[39;00m\n\u001b[1;32m----> 2\u001b[0m mi_coche \u001b[38;5;241m=\u001b[39m \u001b[43mCoche\u001b[49m\u001b[43m(\u001b[49m\u001b[43mmarca\u001b[49m\u001b[38;5;241;43m=\u001b[39;49m\u001b[38;5;124;43m\"\u001b[39;49m\u001b[38;5;124;43mToyota\u001b[39;49m\u001b[38;5;124;43m\"\u001b[39;49m\u001b[43m,\u001b[49m\u001b[43m \u001b[49m\u001b[43mmodelo\u001b[49m\u001b[38;5;241;43m=\u001b[39;49m\u001b[38;5;124;43m\"\u001b[39;49m\u001b[38;5;124;43mCorolla\u001b[39;49m\u001b[38;5;124;43m\"\u001b[39;49m\u001b[43m,\u001b[49m\u001b[43m \u001b[49m\u001b[43mestado\u001b[49m\u001b[43m \u001b[49m\u001b[38;5;241;43m=\u001b[39;49m\u001b[38;5;124;43m\"\u001b[39;49m\u001b[38;5;124;43mapagado\u001b[39;49m\u001b[38;5;124;43m\"\u001b[39;49m\u001b[43m,\u001b[49m\u001b[43m \u001b[49m\u001b[43mruedas\u001b[49m\u001b[43m \u001b[49m\u001b[38;5;241;43m=\u001b[39;49m\u001b[43m \u001b[49m\u001b[38;5;241;43m2\u001b[39;49m\u001b[43m)\u001b[49m\n\u001b[0;32m      4\u001b[0m mi_moto \u001b[38;5;241m=\u001b[39m Moto(marca\u001b[38;5;241m=\u001b[39m\u001b[38;5;124m\"\u001b[39m\u001b[38;5;124mHonda\u001b[39m\u001b[38;5;124m\"\u001b[39m, modelo\u001b[38;5;241m=\u001b[39m\u001b[38;5;124m\"\u001b[39m\u001b[38;5;124mCBR\u001b[39m\u001b[38;5;124m\"\u001b[39m, estado \u001b[38;5;241m=\u001b[39m \u001b[38;5;124m\"\u001b[39m\u001b[38;5;124mencendido\u001b[39m\u001b[38;5;124m\"\u001b[39m, ruedas \u001b[38;5;241m=\u001b[39m \u001b[38;5;241m2\u001b[39m)\n\u001b[0;32m      6\u001b[0m mi_coche\u001b[38;5;241m.\u001b[39mencender()\n",
      "Cell \u001b[1;32mIn[17], line 34\u001b[0m, in \u001b[0;36mCoche.__init__\u001b[1;34m(self, marca, modelo, estado, ruedas)\u001b[0m\n\u001b[0;32m     33\u001b[0m \u001b[38;5;28;01mdef\u001b[39;00m \u001b[38;5;21m__init__\u001b[39m(\u001b[38;5;28mself\u001b[39m,  marca, modelo, estado, ruedas):\n\u001b[1;32m---> 34\u001b[0m     \u001b[38;5;28;43msuper\u001b[39;49m\u001b[43m(\u001b[49m\u001b[43m)\u001b[49m\u001b[38;5;241;43m.\u001b[39;49m\u001b[38;5;21;43m__init__\u001b[39;49m\u001b[43m(\u001b[49m\u001b[38;5;28;43mself\u001b[39;49m\u001b[43m,\u001b[49m\u001b[43m \u001b[49m\u001b[43mmarca\u001b[49m\u001b[43m,\u001b[49m\u001b[43m \u001b[49m\u001b[43mmodelo\u001b[49m\u001b[43m,\u001b[49m\u001b[43m \u001b[49m\u001b[43mestado\u001b[49m\u001b[43m)\u001b[49m\n\u001b[0;32m     35\u001b[0m     \u001b[38;5;28mself\u001b[39m\u001b[38;5;241m.\u001b[39m_ruedas \u001b[38;5;241m=\u001b[39m ruedas\n",
      "\u001b[1;31mTypeError\u001b[0m: Vehiculo.__init__() takes 4 positional arguments but 5 were given"
     ]
    }
   ],
   "source": [
    "\n",
    "# Ejemplo de uso\n",
    "mi_coche = Coche(marca=\"Toyota\", modelo=\"Corolla\", estado =\"apagado\", ruedas = 2)\n",
    "\n",
    "mi_moto = Moto(marca=\"Honda\", modelo=\"CBR\", estado = \"encendido\", ruedas = 2)\n",
    "\n",
    "mi_coche.encender()\n",
    "mi_coche.acelerar()\n",
    "mi_coche.frenar()\n",
    "mi_coche.apagar()\n"
   ]
  },
  {
   "cell_type": "code",
   "execution_count": null,
   "metadata": {},
   "outputs": [],
   "source": []
  }
 ],
 "metadata": {
  "kernelspec": {
   "display_name": "sd",
   "language": "python",
   "name": "python3"
  },
  "language_info": {
   "codemirror_mode": {
    "name": "ipython",
    "version": 3
   },
   "file_extension": ".py",
   "mimetype": "text/x-python",
   "name": "python",
   "nbconvert_exporter": "python",
   "pygments_lexer": "ipython3",
   "version": "3.10.6"
  }
 },
 "nbformat": 4,
 "nbformat_minor": 2
}
