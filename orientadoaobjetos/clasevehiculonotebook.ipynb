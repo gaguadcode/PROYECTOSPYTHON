{
 "cells": [
  {
   "cell_type": "code",
   "execution_count": 6,
   "metadata": {},
   "outputs": [
    {
     "name": "stdout",
     "output_type": "stream",
     "text": [
      "Toyota Corolla ha sido encendido.\n",
      "Toyota Corolla acelerando.\n",
      "Toyota Corolla frenando.\n",
      "El coche tiene 4 ruedas.\n",
      "Honda CBR ha sido encendido.\n",
      "Honda CBR acelerando fuertemente.\n",
      "Honda CBR frenando bruscamente.\n",
      "La moto tiene 2 ruedas.\n"
     ]
    }
   ],
   "source": [
    "from abc import ABC, abstractmethod\n",
    "\n",
    "class Vehiculo(ABC):\n",
    "    def __init__(self, marca, modelo, estado):\n",
    "        self.marca = marca\n",
    "        self.modelo = modelo\n",
    "        self._estado = estado  # Atributo protegido\n",
    "\n",
    "    @property\n",
    "    def estado(self):\n",
    "        return self._estado\n",
    "\n",
    "    @estado.setter\n",
    "    def estado(self, nuevo_estado):\n",
    "        self._estado = nuevo_estado\n",
    "\n",
    "    @abstractmethod\n",
    "    def acelerar(self):\n",
    "        pass\n",
    "\n",
    "    @abstractmethod\n",
    "    def frenar(self):\n",
    "        pass\n",
    "\n",
    "    def encender(self):\n",
    "        self._estado = 'encendido'\n",
    "        print(f\"{self.marca} {self.modelo} ha sido encendido.\")\n",
    "\n",
    "    def apagar(self):\n",
    "        self._estado = 'apagado'\n",
    "        print(f\"{self.marca} {self.modelo} ha sido apagado.\")\n",
    "\n",
    "class Coche(Vehiculo):\n",
    "    def __init__(self, marca, modelo, estado, ruedas):\n",
    "        super().__init__(marca, modelo, estado)\n",
    "        self._ruedas = ruedas\n",
    "\n",
    "    def acelerar(self):\n",
    "        print(f\"{self.marca} {self.modelo} acelerando.\")\n",
    "\n",
    "    def frenar(self):\n",
    "        print(f\"{self.marca} {self.modelo} frenando.\")\n",
    "\n",
    "    @staticmethod\n",
    "    def numero_ruedas():\n",
    "        print(f'El coche tiene 4 ruedas.')\n",
    "\n",
    "class Moto(Vehiculo):\n",
    "    def __init__(self, marca, modelo, estado, ruedas):\n",
    "        super().__init__(marca, modelo, estado)\n",
    "        self._ruedas = ruedas\n",
    "\n",
    "    def acelerar(self):\n",
    "        print(f\"{self.marca} {self.modelo} acelerando fuertemente.\")\n",
    "\n",
    "    def frenar(self):\n",
    "        print(f\"{self.marca} {self.modelo} frenando bruscamente.\")\n",
    "\n",
    "    @staticmethod\n",
    "    def numero_ruedas():\n",
    "        print(f'La moto tiene 2 ruedas.')\n",
    "\n",
    "# Ejemplo de uso\n",
    "mi_coche = Coche(marca=\"Toyota\", modelo=\"Corolla\", estado=\"apagado\", ruedas=4)\n",
    "mi_coche.encender()\n",
    "mi_coche.acelerar()\n",
    "mi_coche.frenar()\n",
    "mi_coche.numero_ruedas()\n",
    "\n",
    "mi_moto = Moto(marca=\"Honda\", modelo=\"CBR\", estado=\"apagado\", ruedas=2)\n",
    "mi_moto.encender()\n",
    "mi_moto.acelerar()\n",
    "mi_moto.frenar()\n",
    "mi_moto.numero_ruedas()\n"
   ]
  },
  {
   "cell_type": "code",
   "execution_count": null,
   "metadata": {},
   "outputs": [],
   "source": []
  }
 ],
 "metadata": {
  "kernelspec": {
   "display_name": "sd",
   "language": "python",
   "name": "python3"
  },
  "language_info": {
   "codemirror_mode": {
    "name": "ipython",
    "version": 3
   },
   "file_extension": ".py",
   "mimetype": "text/x-python",
   "name": "python",
   "nbconvert_exporter": "python",
   "pygments_lexer": "ipython3",
   "version": "3.10.6"
  }
 },
 "nbformat": 4,
 "nbformat_minor": 2
}
