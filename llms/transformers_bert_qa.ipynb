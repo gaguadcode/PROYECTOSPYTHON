{
  "nbformat": 4,
  "nbformat_minor": 0,
  "metadata": {
    "colab": {
      "provenance": []
    },
    "kernelspec": {
      "name": "python3",
      "display_name": "Python 3"
    },
    "language_info": {
      "name": "python"
    }
  },
  "cells": [
    {
      "cell_type": "code",
      "execution_count": null,
      "metadata": {
        "colab": {
          "base_uri": "https://localhost:8080/"
        },
        "id": "nuhAPcIwlK7B",
        "outputId": "b9f0d4d6-b596-44ff-8227-2d9cb85ccdf9"
      },
      "outputs": [
        {
          "output_type": "stream",
          "name": "stderr",
          "text": [
            "Some weights of the model checkpoint at bert-large-uncased-whole-word-masking-finetuned-squad were not used when initializing BertForQuestionAnswering: ['bert.pooler.dense.weight', 'bert.pooler.dense.bias']\n",
            "- This IS expected if you are initializing BertForQuestionAnswering from the checkpoint of a model trained on another task or with another architecture (e.g. initializing a BertForSequenceClassification model from a BertForPreTraining model).\n",
            "- This IS NOT expected if you are initializing BertForQuestionAnswering from the checkpoint of a model that you expect to be exactly identical (initializing a BertForSequenceClassification model from a BertForSequenceClassification model).\n"
          ]
        },
        {
          "output_type": "stream",
          "name": "stdout",
          "text": [
            "Answer: albert einstein\n"
          ]
        }
      ],
      "source": [
        "import torch\n",
        "from transformers import BertForQuestionAnswering, BertTokenizer\n",
        "\n",
        "# Cargar el modelo y el tokenizador\n",
        "tokenizer = BertTokenizer.from_pretrained('bert-large-uncased-whole-word-masking-finetuned-squad')\n",
        "model = BertForQuestionAnswering.from_pretrained('bert-large-uncased-whole-word-masking-finetuned-squad')\n",
        "\n",
        "# Función para responder preguntas\n",
        "def answer_question(question, text):\n",
        "\n",
        "    inputs = tokenizer.encode_plus(question, text, add_special_tokens=True, return_tensors=\"pt\")\n",
        "    input_ids = inputs[\"input_ids\"].tolist()[0]\n",
        "\n",
        "    with torch.no_grad():\n",
        "        outputs = model(**inputs)\n",
        "        answer_start_scores = outputs.start_logits\n",
        "        answer_end_scores = outputs.end_logits\n",
        "\n",
        "    answer_start = torch.argmax(answer_start_scores)\n",
        "    answer_end = torch.argmax(answer_end_scores) + 1\n",
        "    answer = tokenizer.convert_tokens_to_string(tokenizer.convert_ids_to_tokens(input_ids[answer_start:answer_end]))\n",
        "\n",
        "    return answer\n",
        "\n",
        "# Ejemplo de pregunta y texto\n",
        "text = \"The theory of relativity is a theory in the field of physics that describes the law of gravitation and the laws of physics within an inertial frame of reference. It was developed by Albert Einstein, who published it in 1915. This theory revolutionized our understanding of space, time, and gravity. According to the theory of relativity, the perception of time is relative to the observer and can vary depending on the speed at which they are moving. Furthermore, it states that the mass of an object can warp space-time, creating what we perceive as gravity\"\n",
        "question = \"Who discovered the theory of relativity?\"\n",
        "\n",
        "# Obtener respuesta\n",
        "answer = answer_question(question, text)\n",
        "print(\"Answer:\", answer)"
      ]
    }
  ]
}