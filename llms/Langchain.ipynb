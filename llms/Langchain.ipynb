{
 "cells": [
  {
   "cell_type": "code",
   "execution_count": 5,
   "metadata": {},
   "outputs": [
    {
     "name": "stdout",
     "output_type": "stream",
     "text": [
      "Why don't scientists trust atoms? Because they make up everything, including ice cream flavors!\n"
     ]
    }
   ],
   "source": [
    "# SIN\n",
    "from typing import List\n",
    "from openai import OpenAI\n",
    "from dotenv import load_dotenv\n",
    "import os\n",
    "\n",
    "# Cargar variables de entorno\n",
    "load_dotenv()\n",
    "\n",
    "# Configurar el motor de OpenAI\n",
    "engine = \"gpt-3.5-turbo\"\n",
    "api_key = os.getenv(\"OPENAI_API_KEY\")\n",
    "prompt_template = \"Tell me a short joke about {topic}\"\n",
    "\n",
    "# Inicializar el modelo de OpenAI con la clave de API\n",
    "client = OpenAI(api_key=api_key)\n",
    "\n",
    "def call_chat_model(messages: List[dict]) -> str:\n",
    "    response = client.chat.completions.create(\n",
    "        model=\"gpt-3.5-turbo\",\n",
    "        messages=messages,\n",
    "    )\n",
    "    return response.choices[0].message.content\n",
    "\n",
    "def invoke_chain(topic: str) -> str:\n",
    "    prompt_value = prompt_template.format(topic=topic)\n",
    "    messages = [{\"role\": \"user\", \"content\": prompt_value}]\n",
    "    return call_chat_model(messages)\n",
    "\n",
    "print(invoke_chain(\"ice cream\"))\n"
   ]
  },
  {
   "cell_type": "markdown",
   "metadata": {},
   "source": [
    "# Lo mismo pero utilizando la librería Langchain"
   ]
  },
  {
   "cell_type": "code",
   "execution_count": 4,
   "metadata": {},
   "outputs": [
    {
     "name": "stdout",
     "output_type": "stream",
     "text": [
      "Why did the ice cream go to therapy?\n",
      "\n",
      "Because it felt a little soft-serve!\n"
     ]
    }
   ],
   "source": [
    "# CON\n",
    "from langchain_core.runnables import RunnablePassthrough\n",
    "from langchain_core.output_parsers import StrOutputParser\n",
    "from langchain_core.prompts import ChatPromptTemplate\n",
    "from langchain_openai import ChatOpenAI\n",
    "\n",
    "prompt = ChatPromptTemplate.from_template(\"Tell me a short joke about {topic}\")\n",
    "output_parser = StrOutputParser()\n",
    "model = ChatOpenAI(model=\"gpt-3.5-turbo\", api_key=api_key, temperature=1)\n",
    "chain = (\n",
    "    {\"topic\": RunnablePassthrough()}\n",
    "    | prompt\n",
    "    | model\n",
    "    | output_parser\n",
    ")\n",
    "response = chain.invoke(\"ice cream\")\n",
    "print(response)\n"
   ]
  },
  {
   "cell_type": "markdown",
   "metadata": {},
   "source": [
    "# Programación asíncrona con python"
   ]
  },
  {
   "cell_type": "code",
   "execution_count": 8,
   "metadata": {},
   "outputs": [
    {
     "name": "stdout",
     "output_type": "stream",
     "text": [
      "|Hello|!| I| am| an| AI| language| model| created| by| Open|AI|.| I| have| been| trained| on| a| wide| array| of| data| and| can| assist| with| various| tasks| ranging| from| answering| questions|,| generating| text|,| providing| information|,| and| engaging| in| conversations|.| Is| there| something| specific| you| would| like| to| know| or| discuss|?||\n",
      " la respuesta consta de 59 tokens\n"
     ]
    }
   ],
   "source": [
    "from langchain_openai import ChatOpenAI\n",
    "import asyncio\n",
    "import sys\n",
    "from dotenv import load_dotenv\n",
    "import os\n",
    "\n",
    "# Primero autenticamos el usuario :\n",
    "# Cargar variables de entorno\n",
    "load_dotenv()\n",
    "\n",
    "# Configurar el motor de OpenAI\n",
    "engine = \"gpt-3.5-turbo\"\n",
    "api_key = os.getenv(\"OPENAI_API_KEY\")\n",
    "model = ChatOpenAI(api_key=api_key)\n",
    "chunks = []\n",
    "\n",
    "# Enable nest_asyncio for Jupyter notebook\n",
    "import nest_asyncio\n",
    "nest_asyncio.apply()\n",
    "\n",
    "async def chatear():\n",
    "    count = 0\n",
    "    async for chunk in model.astream(\"hello. tell me something about yourself\"):\n",
    "        chunks.append(chunk)\n",
    "        count += 1\n",
    "        print(chunk.content, end=\"|\", flush=True)\n",
    "    print(f'\\n la respuesta consta de {count} tokens')\n",
    "# Run the asynchronous code\n",
    "await chatear()\n"
   ]
  },
  {
   "cell_type": "code",
   "execution_count": null,
   "metadata": {},
   "outputs": [],
   "source": []
  }
 ],
 "metadata": {
  "kernelspec": {
   "display_name": "base_ml",
   "language": "python",
   "name": "python3"
  },
  "language_info": {
   "codemirror_mode": {
    "name": "ipython",
    "version": 3
   },
   "file_extension": ".py",
   "mimetype": "text/x-python",
   "name": "python",
   "nbconvert_exporter": "python",
   "pygments_lexer": "ipython3",
   "version": "3.9.18"
  }
 },
 "nbformat": 4,
 "nbformat_minor": 2
}
