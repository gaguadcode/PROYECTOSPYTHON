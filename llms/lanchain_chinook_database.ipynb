{
  "cells": [
    {
      "cell_type": "code",
      "execution_count": 4,
      "metadata": {
        "colab": {
          "base_uri": "https://localhost:8080/",
          "height": 1000
        },
        "id": "BM3y2Tsxaqbz",
        "outputId": "86156236-5462-4759-f141-4dc239b4fbe7"
      },
      "outputs": [
        {
          "data": {
            "text/plain": [
              "'SQLQuery: \\nSELECT invoices.BillingCountry, SUM(invoice_items.UnitPrice * invoice_items.Quantity) AS TotalSales\\nFROM invoices\\nJOIN invoice_items ON invoices.InvoiceId = invoice_items.InvoiceId\\nGROUP BY invoices.BillingCountry\\nORDER BY TotalSales DESC\\nLIMIT 1\\n'"
            ]
          },
          "execution_count": 4,
          "metadata": {},
          "output_type": "execute_result"
        }
      ],
      "source": [
        "#!pip install langchain langchainhub langchain_openai openai\n",
        "\n",
        "from langchain.utilities import SQLDatabase\n",
        "from langchain_openai import ChatOpenAI\n",
        "from langchain.schema.output_parser import StrOutputParser\n",
        "from langchain import hub\n",
        "#from google.colab import userdata\n",
        "from dotenv import load_dotenv\n",
        "import os\n",
        "load_dotenv()\n",
        "secret_string = os.getenv(\"OPENAI_API_KEY\")\n",
        "\n",
        "# Inicializamos db\n",
        "db = SQLDatabase.from_uri(\"sqlite:///chinook.db\")\n",
        "# Pull down prompt\n",
        "prompt = hub.pull(\"rlm/text-to-sql\")\n",
        "# Initialize model\n",
        "model = ChatOpenAI(openai_api_key=secret_string)\n",
        "\n",
        "# Crear chain con LangChain Expression Language\n",
        "inputs = {\n",
        "    \"table_info\": lambda x: db.get_table_info(),\n",
        "    \"input\": lambda x: x[\"question\"],\n",
        "    \"few_shot_examples\": lambda x: \"\",\n",
        "    \"dialect\": lambda x: db.dialect,\n",
        "}\n",
        "sql_response = (\n",
        "    inputs\n",
        "    | prompt\n",
        "    | model.bind(stop=[\"\\nSQLResult:\"])\n",
        "    | StrOutputParser()\n",
        ")\n",
        "\n",
        "# Call with a given question\n",
        "sql_response.invoke({\"question\": \"Enumera las ventas totales por país. ¿Los clientes de qué país gastaron más?\"})"
      ]
    },
    {
      "cell_type": "code",
      "execution_count": 2,
      "metadata": {
        "colab": {
          "base_uri": "https://localhost:8080/"
        },
        "id": "oG7K8tUR6RbH",
        "outputId": "3c633145-65c3-4845-dcb6-d7f92ccd3001"
      },
      "outputs": [
        {
          "name": "stdout",
          "output_type": "stream",
          "text": [
            "Collecting python-dotenv\n",
            "  Downloading python_dotenv-1.0.1-py3-none-any.whl (19 kB)\n",
            "Installing collected packages: python-dotenv\n",
            "Successfully installed python-dotenv-1.0.1\n"
          ]
        }
      ],
      "source": [
        "!pip install python-dotenv"
      ]
    },
    {
      "cell_type": "code",
      "execution_count": null,
      "metadata": {
        "id": "lFEdNHIJ54MN"
      },
      "outputs": [],
      "source": []
    }
  ],
  "metadata": {
    "colab": {
      "provenance": []
    },
    "kernelspec": {
      "display_name": "Python 3",
      "name": "python3"
    },
    "language_info": {
      "codemirror_mode": {
        "name": "ipython",
        "version": 3
      },
      "file_extension": ".py",
      "mimetype": "text/x-python",
      "name": "python",
      "nbconvert_exporter": "python",
      "pygments_lexer": "ipython3",
      "version": "3.9.18"
    }
  },
  "nbformat": 4,
  "nbformat_minor": 0
}
