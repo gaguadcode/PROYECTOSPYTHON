{
  "cells": [
    {
      "cell_type": "code",
      "execution_count": 9,
      "metadata": {
        "colab": {
          "base_uri": "https://localhost:8080/"
        },
        "id": "KI_QlYv0b9T0",
        "outputId": "467eaa8d-3961-4d05-fda5-3344924552d9"
      },
      "outputs": [
        {
          "name": "stdout",
          "output_type": "stream",
          "text": [
            "\n",
            "\n",
            "\u001b[1m> Entering new AgentExecutor chain...\u001b[0m\n",
            "\u001b[32;1m\u001b[1;3m\n",
            "Invoking: `sql_db_list_tables` with ``\n",
            "\n",
            "\n",
            "\u001b[0m\u001b[38;5;200m\u001b[1;3mactor, address, category, city, country, customer, film, film_actor, film_category, film_text, inventory, language, payment, rental, staff, store\u001b[0m\u001b[32;1m\u001b[1;3m\n",
            "Invoking: `sql_db_schema` with `film`\n",
            "\n",
            "\n",
            "\u001b[0m\u001b[33;1m\u001b[1;3m\n",
            "CREATE TABLE film (\n",
            "\tfilm_id INTEGER NOT NULL, \n",
            "\ttitle VARCHAR(255) NOT NULL, \n",
            "\tdescription TEXT DEFAULT NULL, \n",
            "\trelease_year VARCHAR(4) DEFAULT NULL, \n",
            "\tlanguage_id SMALLINT NOT NULL, \n",
            "\toriginal_language_id SMALLINT DEFAULT NULL, \n",
            "\trental_duration SMALLINT DEFAULT 3 NOT NULL, \n",
            "\trental_rate DECIMAL(4, 2) DEFAULT 4.99 NOT NULL, \n",
            "\tlength SMALLINT DEFAULT NULL, \n",
            "\treplacement_cost DECIMAL(5, 2) DEFAULT 19.99 NOT NULL, \n",
            "\trating VARCHAR(10) DEFAULT 'G', \n",
            "\tspecial_features VARCHAR(100) DEFAULT NULL, \n",
            "\tlast_update TIMESTAMP NOT NULL, \n",
            "\tPRIMARY KEY (film_id), \n",
            "\tCONSTRAINT fk_film_language FOREIGN KEY(language_id) REFERENCES language (language_id), \n",
            "\tCONSTRAINT fk_film_language_original FOREIGN KEY(original_language_id) REFERENCES language (language_id), \n",
            "\tCONSTRAINT \"CHECK_special_rating\" CHECK (rating in ('G','PG','PG-13','R','NC-17'))\n",
            ")\n",
            "\n",
            "/*\n",
            "3 rows from film table:\n",
            "film_id\ttitle\tdescription\trelease_year\tlanguage_id\toriginal_language_id\trental_duration\trental_rate\tlength\treplacement_cost\trating\tspecial_features\tlast_update\n",
            "1\tACADEMY DINOSAUR\tA Epic Drama of a Feminist And a Mad Scientist who must Battle a Teacher in The Canadian Rockies\t2006\t1\tNone\t6\t0.99\t86\t20.99\tPG\tDeleted Scenes,Behind the Scenes\t2021-03-06 15:52:00\n",
            "2\tACE GOLDFINGER\tA Astounding Epistle of a Database Administrator And a Explorer who must Find a Car in Ancient China\t2006\t1\tNone\t3\t4.99\t48\t12.99\tG\tTrailers,Deleted Scenes\t2021-03-06 15:52:00\n",
            "3\tADAPTATION HOLES\tA Astounding Reflection of a Lumberjack And a Car who must Sink a Lumberjack in A Baloon Factory\t2006\t1\tNone\t7\t2.99\t50\t18.99\tNC-17\tTrailers,Deleted Scenes\t2021-03-06 15:52:00\n",
            "*/\u001b[0m"
          ]
        },
        {
          "name": "stderr",
          "output_type": "stream",
          "text": [
            "/Users/gustavo.aguado/anaconda3/envs/base_ml/lib/python3.9/site-packages/langchain_community/utilities/sql_database.py:304: SAWarning: Cannot correctly sort tables; there are unresolvable cycles between tables \"staff, store\", which is usually caused by mutually dependent foreign key constraints.  Foreign key constraints involving these tables will not be considered; this warning may raise an error in a future release.\n",
            "  for tbl in self._metadata.sorted_tables\n"
          ]
        },
        {
          "name": "stdout",
          "output_type": "stream",
          "text": [
            "\u001b[32;1m\u001b[1;3m\n",
            "Invoking: `sql_db_query` with `SELECT description FROM film WHERE title = 'IDOLS SNATCHERS' LIMIT 1`\n",
            "\n",
            "\n",
            "\u001b[0m\u001b[36;1m\u001b[1;3m[('A Insightful Drama of a Car And a Composer who must Fight a Man in A Monastery',)]\u001b[0m\u001b[32;1m\u001b[1;3mThe description of the movie \"IDOLS SNATCHERS\" is \"A Insightful Drama of a Car And a Composer who must Fight a Man in A Monastery\".\u001b[0m\n",
            "\n",
            "\u001b[1m> Finished chain.\u001b[0m\n",
            "The description of the movie \"IDOLS SNATCHERS\" is \"A Insightful Drama of a Car And a Composer who must Fight a Man in A Monastery\".\n"
          ]
        }
      ],
      "source": [
        "#!pip install langchain langchainhub langchain_openai openai\n",
        "from langchain.sql_database import SQLDatabase\n",
        "from langchain_openai import ChatOpenAI\n",
        "from langchain.schema.output_parser import StrOutputParser\n",
        "from langchain import hub\n",
        "from langchain_community.agent_toolkits import create_sql_agent\n",
        "from langchain_openai import ChatOpenAI\n",
        "from dotenv import load_dotenv\n",
        "import os\n",
        "load_dotenv()\n",
        "secret_string = os.getenv(\"OPENAI_API_KEY\")\n",
        "\n",
        "# Inicializamos db\n",
        "db = SQLDatabase.from_uri(\"sqlite:///sqlite-sakila.db\")\n",
        "\n",
        "llm = ChatOpenAI(openai_api_key=secret_string, model=\"gpt-3.5-turbo-0613\", temperature=0)\n",
        "\n",
        "agent_executor = create_sql_agent(llm, db=db, agent_type=\"openai-tools\", verbose=True)\n",
        "resultado = agent_executor.invoke(\n",
        "    \"tell me the description of the movie IDOLS SNATCHERS\"\n",
        ")\n",
        "print(resultado.get('output'))"
      ]
    },
    {
      "cell_type": "code",
      "execution_count": null,
      "metadata": {},
      "outputs": [],
      "source": []
    }
  ],
  "metadata": {
    "colab": {
      "provenance": []
    },
    "kernelspec": {
      "display_name": "Python 3",
      "name": "python3"
    },
    "language_info": {
      "codemirror_mode": {
        "name": "ipython",
        "version": 3
      },
      "file_extension": ".py",
      "mimetype": "text/x-python",
      "name": "python",
      "nbconvert_exporter": "python",
      "pygments_lexer": "ipython3",
      "version": "3.9.18"
    }
  },
  "nbformat": 4,
  "nbformat_minor": 0
}
