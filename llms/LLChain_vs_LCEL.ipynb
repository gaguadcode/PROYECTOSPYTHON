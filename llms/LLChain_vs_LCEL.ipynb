{
  "nbformat": 4,
  "nbformat_minor": 0,
  "metadata": {
    "colab": {
      "provenance": []
    },
    "kernelspec": {
      "name": "python3",
      "display_name": "Python 3"
    },
    "language_info": {
      "name": "python"
    }
  },
  "cells": [
    {
      "cell_type": "code",
      "execution_count": null,
      "metadata": {
        "colab": {
          "base_uri": "https://localhost:8080/"
        },
        "id": "ALvngykod6uT",
        "outputId": "26ade6a8-bdd3-4697-db73-3e0cfa0cf9d7"
      },
      "outputs": [
        {
          "output_type": "stream",
          "name": "stdout",
          "text": [
            "\n",
            "Environmental stress refers to the negative impact that the environment has on individuals, animals, and ecosystems. This stress can come in various forms, such as pollution, climate change, natural disasters, and habitat destruction. It can have detrimental effects on physical health, mental well-being, and overall quality of life. \n",
            "\n",
            "One of the biggest concerns about environmental stress is its far-reaching consequences. It affects not only individuals but also communities and the entire planet. As humans continue to exploit and damage the environment, the effects of environmental stress are becoming more widespread and severe. This can lead to a vicious cycle, where the stress caused by environmental issues only exacerbates the problems further.\n",
            "\n",
            "Moreover, environmental stress can also result in conflicts and inequalities. As resources become scarce and climate change leads to displacement, competition for resources and land can arise, leading to tensions between different groups. This can also widen the gap between developed and developing countries, as the former have greater resources to cope with environmental stress while the latter are more vulnerable.\n",
            "\n",
            "On an individual level, environmental stress can have a profound impact on mental health. The destruction of our natural surroundings can cause feelings of anxiety, grief, and helplessness. In addition, exposure to air and water pollution can also lead to physical health problems, such as respiratory diseases\n"
          ]
        }
      ],
      "source": [
        "#!pip install langchain openai langchain-openai google-cloud-secret-manager\n",
        "\n",
        "from langchain import PromptTemplate, LLMChain\n",
        "from langchain.schema import StrOutputParser\n",
        "from langchain_openai import OpenAI\n",
        "\n",
        "# Primero autenticamos el usuario :\n",
        "import sys\n",
        "if \"google.colab\" in sys.modules:\n",
        "    from google.colab import auth\n",
        "    auth.authenticate_user()\n",
        "\n",
        "from google.cloud import secretmanager\n",
        "\n",
        "# Creamos un Cliente de SecretManager:\n",
        "client = secretmanager.SecretManagerServiceClient()\n",
        "secret_name = \"openai-token\"\n",
        "project_id = '196177837977'\n",
        "\n",
        "# Contruimos a F-String:\n",
        "resource_name = f\"projects/{project_id}/secrets/{secret_name}/versions/latest\"\n",
        "\n",
        "# Obtenemos el secreto :\n",
        "response = client.access_secret_version(request={\"name\": resource_name})\n",
        "secret_string = response.payload.data.decode('UTF-8')\n",
        "\n",
        "# llm openai con langchain\n",
        "llm = OpenAI(openai_api_key=secret_string, temperature=1)\n",
        "output_parser = StrOutputParser()\n",
        "\n",
        "template = \"\"\"\n",
        "Write a short assessment about {topic}.\n",
        "\"\"\"\n",
        "topic_template = PromptTemplate(template=template, input_variables=['topic'])\n",
        "\n",
        "topic_chain = LLMChain(llm=llm, prompt=topic_template, output_parser=output_parser)\n",
        "response = topic_chain.invoke('Environmental estress')\n",
        "print(response.get('text'))\n",
        "\n",
        "\n"
      ]
    },
    {
      "cell_type": "markdown",
      "source": [
        "### Con LCEL (Langchain Expression Language)"
      ],
      "metadata": {
        "id": "Wua8yXvGnaXy"
      }
    },
    {
      "cell_type": "code",
      "source": [
        "chain = topic_template | llm | output_parser\n",
        "\n",
        "# and run\n",
        "out = chain.invoke({\"topic\": \"Lavoisier law\"})\n",
        "print(out)"
      ],
      "metadata": {
        "colab": {
          "base_uri": "https://localhost:8080/"
        },
        "id": "zBeCv5sJnkf2",
        "outputId": "b11a66e7-b712-46a2-d2b6-d7b09c3a6288"
      },
      "execution_count": null,
      "outputs": [
        {
          "output_type": "stream",
          "name": "stdout",
          "text": [
            "\n",
            "Lavoisier's law, also known as the law of conservation of mass, states that mass is neither created nor destroyed in a chemical reaction. This means that the total mass of the reactants must be equal to the total mass of the products. This law is an important principle in chemistry and is still widely used today.\n",
            "\n",
            "The significance of Lavoisier's law can be seen in its impact on our understanding of chemical reactions. Before this law was established, it was believed that substances could be created or destroyed during a chemical reaction. However, Lavoisier's experiments and observations proved this to be false and instead showed that the mass of substances involved in a reaction remains constant.\n",
            "\n",
            "Furthermore, Lavoisier's law also led to the development of stoichiometry, which is the calculation of the quantities of substances involved in a chemical reaction. This plays an important role in the fields of chemistry, physics, and biology.\n",
            "\n",
            "Overall, I believe that Lavoisier's law is one of the fundamental principles in chemistry and has greatly contributed to our understanding of chemical reactions. Its applications can be seen in various industries, such as pharmaceuticals, materials science, and environmental science. It is a timeless and significant law that continues to guide our understanding of the natural\n"
          ]
        }
      ]
    }
  ]
}