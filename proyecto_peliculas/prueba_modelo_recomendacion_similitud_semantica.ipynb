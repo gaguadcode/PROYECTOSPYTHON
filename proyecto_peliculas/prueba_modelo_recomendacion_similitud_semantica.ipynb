{
  "cells": [
    {
      "cell_type": "markdown",
      "metadata": {
        "id": "vBdeDOpeP9ja"
      },
      "source": [
        "# Prueba de concepto de embedings de frases para calcular similaridad. Las recomendaciones se hacen en función de las overviews de las peliculas del dataset comparada con la overview de la pelicula que se da de input."
      ]
    },
    {
      "cell_type": "code",
      "execution_count": 1,
      "metadata": {
        "id": "TvON0D_ePwqK"
      },
      "outputs": [
        {
          "name": "stderr",
          "output_type": "stream",
          "text": [
            "/Users/gustavo.aguado/anaconda3/envs/base_ml/lib/python3.9/site-packages/tqdm/auto.py:21: TqdmWarning: IProgress not found. Please update jupyter and ipywidgets. See https://ipywidgets.readthedocs.io/en/stable/user_install.html\n",
            "  from .autonotebook import tqdm as notebook_tqdm\n",
            "modules.json: 100%|██████████| 229/229 [00:00<00:00, 94.0kB/s]\n",
            "config_sentence_transformers.json: 100%|██████████| 122/122 [00:00<00:00, 182kB/s]\n",
            "README.md: 100%|██████████| 3.95k/3.95k [00:00<00:00, 6.53MB/s]\n",
            "sentence_bert_config.json: 100%|██████████| 53.0/53.0 [00:00<00:00, 59.7kB/s]\n",
            "config.json: 100%|██████████| 625/625 [00:00<00:00, 1.07MB/s]\n",
            "pytorch_model.bin: 100%|██████████| 438M/438M [00:04<00:00, 102MB/s]  \n",
            "tokenizer_config.json: 100%|██████████| 399/399 [00:00<00:00, 172kB/s]\n",
            "vocab.txt: 100%|██████████| 232k/232k [00:00<00:00, 1.10MB/s]\n",
            "tokenizer.json: 100%|██████████| 466k/466k [00:00<00:00, 4.54MB/s]\n",
            "added_tokens.json: 100%|██████████| 2.00/2.00 [00:00<00:00, 5.89kB/s]\n",
            "special_tokens_map.json: 100%|██████████| 112/112 [00:00<00:00, 217kB/s]\n",
            "1_Pooling/config.json: 100%|██████████| 190/190 [00:00<00:00, 433kB/s]\n"
          ]
        },
        {
          "name": "stdout",
          "output_type": "stream",
          "text": [
            "(7, 768)\n",
            "[[ 1.00000012  0.18692744  0.28297654  0.29628217  0.27451023  0.10176258\n",
            "   0.21696249]\n",
            " [ 0.18692744  1.          0.72058785  0.51428944  0.11749668  0.19306904\n",
            "   0.66182345]\n",
            " [ 0.28297654  0.72058785  1.          0.48864424  0.23568946  0.17157142\n",
            "   0.55993092]\n",
            " [ 0.29628217  0.51428944  0.48864424  0.99999976  0.26985502  0.37889433\n",
            "   0.52388805]\n",
            " [ 0.27451023  0.11749668  0.23568946  0.26985502  1.          0.2342214\n",
            "  -0.01599779]\n",
            " [ 0.10176258  0.19306904  0.17157142  0.37889433  0.2342214   1.\n",
            "   0.22319655]\n",
            " [ 0.21696249  0.66182345  0.55993092  0.52388805 -0.01599779  0.22319655\n",
            "   1.        ]]\n"
          ]
        },
        {
          "data": {
            "image/png": "[encoded data removed]",
            "text/plain": [
              "<Figure size 1000x900 with 2 Axes>"
            ]
          },
          "metadata": {},
          "output_type": "display_data"
        }
      ],
      "source": [
        "\n",
        "a = \"purple is the best city in the forest\"\n",
        "b = \"there is an art to getting your way and throwing bananas on to the street is not it\"\n",
        "c= \"it is not often you find soggy bananas on the street\"\n",
        "d = \"green should have smelled more tranquil but somehow it just tasted rotten\"\n",
        "e= \"joyce enjoyed eating pancakes with ketchup\"\n",
        "f = \"as the asteroid hurtled toward earth becky was upset her dentist appointment had been canceled\"\n",
        "g = \"to get your way you must not bombard the road with yellow fruit\"\n",
        "\n",
        "from sentence_transformers import SentenceTransformer\n",
        "\n",
        "model = SentenceTransformer('bert-base-nli-mean-tokens')\n",
        "\n",
        "sentence_embeddings = model.encode([a, b, c, d, e, f, g])\n",
        "\n",
        "print(sentence_embeddings.shape)\n",
        "\n",
        "from sklearn.metrics.pairwise import cosine_similarity\n",
        "import numpy as np\n",
        "\n",
        "# Calculte similarities ( Will be stored in an array )\n",
        "scores = np.zeros((sentence_embeddings.shape[0], sentence_embeddings.shape[0]))\n",
        "for i in range(sentence_embeddings.shape[0]):\n",
        "    scores[i, :] = cosine_similarity(\n",
        "        [sentence_embeddings[i]],\n",
        "        sentence_embeddings ) [0]\n",
        "\n",
        "print(scores)\n",
        "\n",
        "import matplotlib.pyplot as plt\n",
        "import seaborn as sns\n",
        "\n",
        "plt.figure(figsize=(10,9))\n",
        "labels = ['Doc 1','Doc 2','Doc 3','Doc 4', 'Doc 5', 'Doc 6', 'Doc 7']\n",
        "sim_map = sns.heatmap(scores, xticklabels = labels, yticklabels = labels, annot = True)"
      ]
    },
    {
      "cell_type": "markdown",
      "metadata": {
        "id": "doioeokeQRmE"
      },
      "source": [
        "# Cargo el dataset de peliculas"
      ]
    },
    {
      "cell_type": "code",
      "execution_count": 2,
      "metadata": {
        "colab": {
          "base_uri": "https://localhost:8080/"
        },
        "id": "1ZFI2AuEHQIv",
        "outputId": "c7a4b15b-c1ca-46a7-866d-674382db2c52"
      },
      "outputs": [
        {
          "name": "stderr",
          "output_type": "stream",
          "text": [
            "/var/folders/yc/q9_6ht1x43s552t2rfm6pw1c0000gn/T/ipykernel_39311/1306873364.py:2: DtypeWarning: Columns (10) have mixed types. Specify dtype option on import or set low_memory=False.\n",
            "  df = pd.read_csv('movies_metadata.csv')\n"
          ]
        }
      ],
      "source": [
        "import pandas as pd\n",
        "df = pd.read_csv('movies_metadata.csv')"
      ]
    },
    {
      "cell_type": "code",
      "execution_count": 3,
      "metadata": {
        "id": "oX9g6a2NGWjG"
      },
      "outputs": [],
      "source": [
        "# Columna de overviews\n",
        "film_overviews = df['overview'].tolist()\n"
      ]
    },
    {
      "cell_type": "code",
      "execution_count": 4,
      "metadata": {
        "id": "2ulDgP9rHLB0"
      },
      "outputs": [],
      "source": [
        "def calculate_similarity(input_sentence, document_embeddings):\n",
        "    input_embedding = model.encode([input_sentence])\n",
        "    scores = cosine_similarity(input_embedding, document_embeddings)[0]\n",
        "    return scores"
      ]
    },
    {
      "cell_type": "code",
      "execution_count": 5,
      "metadata": {
        "id": "vue5XD-aN4su"
      },
      "outputs": [],
      "source": [
        "from sentence_transformers import SentenceTransformer# esta librería la usaré para calcular los embedings de los overviews\n",
        "\n",
        "model = SentenceTransformer('bert-base-nli-mean-tokens')"
      ]
    },
    {
      "cell_type": "code",
      "execution_count": 5,
      "metadata": {
        "colab": {
          "base_uri": "https://localhost:8080/"
        },
        "id": "QrB44CTLNUSo",
        "outputId": "7c60ce55-e2c5-43ba-acba-da1d8bdfa917"
      },
      "outputs": [
        {
          "name": "stdout",
          "output_type": "stream",
          "text": [
            "Requirement already satisfied: gradio==4.14.0 in /usr/local/lib/python3.10/dist-packages (4.14.0)\n",
            "Requirement already satisfied: aiofiles<24.0,>=22.0 in /usr/local/lib/python3.10/dist-packages (from gradio==4.14.0) (23.2.1)\n",
            "Requirement already satisfied: altair<6.0,>=4.2.0 in /usr/local/lib/python3.10/dist-packages (from gradio==4.14.0) (4.2.2)\n",
            "Requirement already satisfied: fastapi in /usr/local/lib/python3.10/dist-packages (from gradio==4.14.0) (0.109.0)\n",
            "Requirement already satisfied: ffmpy in /usr/local/lib/python3.10/dist-packages (from gradio==4.14.0) (0.3.1)\n",
            "Requirement already satisfied: gradio-client==0.8.0 in /usr/local/lib/python3.10/dist-packages (from gradio==4.14.0) (0.8.0)\n",
            "Requirement already satisfied: httpx in /usr/local/lib/python3.10/dist-packages (from gradio==4.14.0) (0.26.0)\n",
            "Requirement already satisfied: huggingface-hub>=0.19.3 in /usr/local/lib/python3.10/dist-packages (from gradio==4.14.0) (0.20.3)\n",
            "Requirement already satisfied: importlib-resources<7.0,>=1.3 in /usr/local/lib/python3.10/dist-packages (from gradio==4.14.0) (6.1.1)\n",
            "Requirement already satisfied: jinja2<4.0 in /usr/local/lib/python3.10/dist-packages (from gradio==4.14.0) (3.1.3)\n",
            "Requirement already satisfied: markupsafe~=2.0 in /usr/local/lib/python3.10/dist-packages (from gradio==4.14.0) (2.1.4)\n",
            "Requirement already satisfied: matplotlib~=3.0 in /usr/local/lib/python3.10/dist-packages (from gradio==4.14.0) (3.7.1)\n",
            "Requirement already satisfied: numpy~=1.0 in /usr/local/lib/python3.10/dist-packages (from gradio==4.14.0) (1.23.5)\n",
            "Requirement already satisfied: orjson~=3.0 in /usr/local/lib/python3.10/dist-packages (from gradio==4.14.0) (3.9.12)\n",
            "Requirement already satisfied: packaging in /usr/local/lib/python3.10/dist-packages (from gradio==4.14.0) (23.2)\n",
            "Requirement already satisfied: pandas<3.0,>=1.0 in /usr/local/lib/python3.10/dist-packages (from gradio==4.14.0) (1.5.3)\n",
            "Requirement already satisfied: pillow<11.0,>=8.0 in /usr/local/lib/python3.10/dist-packages (from gradio==4.14.0) (9.4.0)\n",
            "Requirement already satisfied: pydantic>=2.0 in /usr/local/lib/python3.10/dist-packages (from gradio==4.14.0) (2.5.3)\n",
            "Requirement already satisfied: pydub in /usr/local/lib/python3.10/dist-packages (from gradio==4.14.0) (0.25.1)\n",
            "Requirement already satisfied: python-multipart in /usr/local/lib/python3.10/dist-packages (from gradio==4.14.0) (0.0.6)\n",
            "Requirement already satisfied: pyyaml<7.0,>=5.0 in /usr/local/lib/python3.10/dist-packages (from gradio==4.14.0) (6.0.1)\n",
            "Requirement already satisfied: semantic-version~=2.0 in /usr/local/lib/python3.10/dist-packages (from gradio==4.14.0) (2.10.0)\n",
            "Requirement already satisfied: tomlkit==0.12.0 in /usr/local/lib/python3.10/dist-packages (from gradio==4.14.0) (0.12.0)\n",
            "Requirement already satisfied: typer[all]<1.0,>=0.9 in /usr/local/lib/python3.10/dist-packages (from gradio==4.14.0) (0.9.0)\n",
            "Requirement already satisfied: typing-extensions~=4.0 in /usr/local/lib/python3.10/dist-packages (from gradio==4.14.0) (4.9.0)\n",
            "Requirement already satisfied: uvicorn>=0.14.0 in /usr/local/lib/python3.10/dist-packages (from gradio==4.14.0) (0.27.0)\n",
            "Requirement already satisfied: fsspec in /usr/local/lib/python3.10/dist-packages (from gradio-client==0.8.0->gradio==4.14.0) (2023.6.0)\n",
            "Requirement already satisfied: websockets<12.0,>=10.0 in /usr/local/lib/python3.10/dist-packages (from gradio-client==0.8.0->gradio==4.14.0) (11.0.3)\n",
            "Requirement already satisfied: entrypoints in /usr/local/lib/python3.10/dist-packages (from altair<6.0,>=4.2.0->gradio==4.14.0) (0.4)\n",
            "Requirement already satisfied: jsonschema>=3.0 in /usr/local/lib/python3.10/dist-packages (from altair<6.0,>=4.2.0->gradio==4.14.0) (4.19.2)\n",
            "Requirement already satisfied: toolz in /usr/local/lib/python3.10/dist-packages (from altair<6.0,>=4.2.0->gradio==4.14.0) (0.12.0)\n",
            "Requirement already satisfied: filelock in /usr/local/lib/python3.10/dist-packages (from huggingface-hub>=0.19.3->gradio==4.14.0) (3.13.1)\n",
            "Requirement already satisfied: requests in /usr/local/lib/python3.10/dist-packages (from huggingface-hub>=0.19.3->gradio==4.14.0) (2.31.0)\n",
            "Requirement already satisfied: tqdm>=4.42.1 in /usr/local/lib/python3.10/dist-packages (from huggingface-hub>=0.19.3->gradio==4.14.0) (4.66.1)\n",
            "Requirement already satisfied: contourpy>=1.0.1 in /usr/local/lib/python3.10/dist-packages (from matplotlib~=3.0->gradio==4.14.0) (1.2.0)\n",
            "Requirement already satisfied: cycler>=0.10 in /usr/local/lib/python3.10/dist-packages (from matplotlib~=3.0->gradio==4.14.0) (0.12.1)\n",
            "Requirement already satisfied: fonttools>=4.22.0 in /usr/local/lib/python3.10/dist-packages (from matplotlib~=3.0->gradio==4.14.0) (4.47.2)\n",
            "Requirement already satisfied: kiwisolver>=1.0.1 in /usr/local/lib/python3.10/dist-packages (from matplotlib~=3.0->gradio==4.14.0) (1.4.5)\n",
            "Requirement already satisfied: pyparsing>=2.3.1 in /usr/local/lib/python3.10/dist-packages (from matplotlib~=3.0->gradio==4.14.0) (3.1.1)\n",
            "Requirement already satisfied: python-dateutil>=2.7 in /usr/local/lib/python3.10/dist-packages (from matplotlib~=3.0->gradio==4.14.0) (2.8.2)\n",
            "Requirement already satisfied: pytz>=2020.1 in /usr/local/lib/python3.10/dist-packages (from pandas<3.0,>=1.0->gradio==4.14.0) (2023.3.post1)\n",
            "Requirement already satisfied: annotated-types>=0.4.0 in /usr/local/lib/python3.10/dist-packages (from pydantic>=2.0->gradio==4.14.0) (0.6.0)\n",
            "Requirement already satisfied: pydantic-core==2.14.6 in /usr/local/lib/python3.10/dist-packages (from pydantic>=2.0->gradio==4.14.0) (2.14.6)\n",
            "Requirement already satisfied: click<9.0.0,>=7.1.1 in /usr/local/lib/python3.10/dist-packages (from typer[all]<1.0,>=0.9->gradio==4.14.0) (8.1.7)\n",
            "Requirement already satisfied: colorama<0.5.0,>=0.4.3 in /usr/local/lib/python3.10/dist-packages (from typer[all]<1.0,>=0.9->gradio==4.14.0) (0.4.6)\n",
            "Requirement already satisfied: shellingham<2.0.0,>=1.3.0 in /usr/local/lib/python3.10/dist-packages (from typer[all]<1.0,>=0.9->gradio==4.14.0) (1.5.4)\n",
            "Requirement already satisfied: rich<14.0.0,>=10.11.0 in /usr/local/lib/python3.10/dist-packages (from typer[all]<1.0,>=0.9->gradio==4.14.0) (13.7.0)\n",
            "Requirement already satisfied: h11>=0.8 in /usr/local/lib/python3.10/dist-packages (from uvicorn>=0.14.0->gradio==4.14.0) (0.14.0)\n",
            "Requirement already satisfied: starlette<0.36.0,>=0.35.0 in /usr/local/lib/python3.10/dist-packages (from fastapi->gradio==4.14.0) (0.35.1)\n",
            "Requirement already satisfied: anyio in /usr/local/lib/python3.10/dist-packages (from httpx->gradio==4.14.0) (3.7.1)\n",
            "Requirement already satisfied: certifi in /usr/local/lib/python3.10/dist-packages (from httpx->gradio==4.14.0) (2023.11.17)\n",
            "Requirement already satisfied: httpcore==1.* in /usr/local/lib/python3.10/dist-packages (from httpx->gradio==4.14.0) (1.0.2)\n",
            "Requirement already satisfied: idna in /usr/local/lib/python3.10/dist-packages (from httpx->gradio==4.14.0) (3.6)\n",
            "Requirement already satisfied: sniffio in /usr/local/lib/python3.10/dist-packages (from httpx->gradio==4.14.0) (1.3.0)\n",
            "Requirement already satisfied: attrs>=22.2.0 in /usr/local/lib/python3.10/dist-packages (from jsonschema>=3.0->altair<6.0,>=4.2.0->gradio==4.14.0) (23.2.0)\n",
            "Requirement already satisfied: jsonschema-specifications>=2023.03.6 in /usr/local/lib/python3.10/dist-packages (from jsonschema>=3.0->altair<6.0,>=4.2.0->gradio==4.14.0) (2023.12.1)\n",
            "Requirement already satisfied: referencing>=0.28.4 in /usr/local/lib/python3.10/dist-packages (from jsonschema>=3.0->altair<6.0,>=4.2.0->gradio==4.14.0) (0.32.1)\n",
            "Requirement already satisfied: rpds-py>=0.7.1 in /usr/local/lib/python3.10/dist-packages (from jsonschema>=3.0->altair<6.0,>=4.2.0->gradio==4.14.0) (0.17.1)\n",
            "Requirement already satisfied: six>=1.5 in /usr/local/lib/python3.10/dist-packages (from python-dateutil>=2.7->matplotlib~=3.0->gradio==4.14.0) (1.16.0)\n",
            "Requirement already satisfied: markdown-it-py>=2.2.0 in /usr/local/lib/python3.10/dist-packages (from rich<14.0.0,>=10.11.0->typer[all]<1.0,>=0.9->gradio==4.14.0) (3.0.0)\n",
            "Requirement already satisfied: pygments<3.0.0,>=2.13.0 in /usr/local/lib/python3.10/dist-packages (from rich<14.0.0,>=10.11.0->typer[all]<1.0,>=0.9->gradio==4.14.0) (2.16.1)\n",
            "Requirement already satisfied: exceptiongroup in /usr/local/lib/python3.10/dist-packages (from anyio->httpx->gradio==4.14.0) (1.2.0)\n",
            "Requirement already satisfied: charset-normalizer<4,>=2 in /usr/local/lib/python3.10/dist-packages (from requests->huggingface-hub>=0.19.3->gradio==4.14.0) (3.3.2)\n",
            "Requirement already satisfied: urllib3<3,>=1.21.1 in /usr/local/lib/python3.10/dist-packages (from requests->huggingface-hub>=0.19.3->gradio==4.14.0) (2.0.7)\n",
            "Requirement already satisfied: mdurl~=0.1 in /usr/local/lib/python3.10/dist-packages (from markdown-it-py>=2.2.0->rich<14.0.0,>=10.11.0->typer[all]<1.0,>=0.9->gradio==4.14.0) (0.1.2)\n"
          ]
        }
      ],
      "source": [
        "!pip install gradio==4.14.0"
      ]
    },
    {
      "cell_type": "code",
      "execution_count": 17,
      "metadata": {
        "colab": {
          "base_uri": "https://localhost:8080/",
          "height": 643
        },
        "id": "pMkmHHpCHOaf",
        "outputId": "f540d5a5-2b53-4552-d50b-fc934bf4b027"
      },
      "outputs": [
        {
          "name": "stdout",
          "output_type": "stream",
          "text": [
            "Running on local URL:  http://127.0.0.1:7870\n",
            "\n",
            "To create a public link, set `share=True` in `launch()`.\n"
          ]
        },
        {
          "data": {
            "text/html": [
              "<div><iframe src=\"http://127.0.0.1:7870/\" width=\"100%\" height=\"500\" allow=\"autoplay; camera; microphone; clipboard-read; clipboard-write;\" frameborder=\"0\" allowfullscreen></iframe></div>"
            ],
            "text/plain": [
              "<IPython.core.display.HTML object>"
            ]
          },
          "metadata": {},
          "output_type": "display_data"
        },
        {
          "data": {
            "text/plain": []
          },
          "execution_count": 17,
          "metadata": {},
          "output_type": "execute_result"
        }
      ],
      "source": [
        "import gradio as gr\n",
        "import random\n",
        "import requests\n",
        "from dotenv import load_dotenv\n",
        "import matplotlib\n",
        "import os\n",
        "from PIL import Image, ImageTk\n",
        "import tkinter as tk\n",
        "import io\n",
        "\n",
        "# Cargar variables de entorno desde .env\n",
        "load_dotenv()\n",
        "\n",
        "url_omdb = \"http://www.omdbapi.com/?apikey=\" + os.getenv(\"OMDB_API_KEY\") + \"&t=\"\n",
        "# Assume you have already loaded your dataframe and preprocessed it\n",
        "# df = ...\n",
        "\n",
        "# Select the first 100 films for testing\n",
        "df_subset = df.head(1000)\n",
        "df_subset = df_subset.dropna(subset=['overview']).reset_index(drop=True)\n",
        "# Gradio function to calculate similarity and return top 5 similar films\n",
        "def find_similar_films(film_name):\n",
        "    # Get the overview of the specified film\n",
        "    overview = df_subset[df_subset['original_title'] == film_name]['overview'].values\n",
        "    if len(overview) == 0 or pd.isna(overview[0]) or not isinstance(overview[0], str):\n",
        "        return \"Film overview not available or invalid.\"\n",
        "\n",
        "    overview = overview[0]\n",
        "    # Calculate similarity scores\n",
        "    film_overview_embeddings = model.encode(df_subset['overview'])\n",
        "    similarity_scores = calculate_similarity(overview, film_overview_embeddings)\n",
        "\n",
        "    # Create a dataframe with film titles and their similarity scores\n",
        "    result_df = pd.DataFrame({'Film': df_subset['original_title'], 'Similarity Score': similarity_scores})\n",
        "    result_df = result_df[result_df['Film'] != film_name]\n",
        "    # Sort the dataframe by similarity scores in descending order\n",
        "    result_df = result_df.sort_values(by='Similarity Score', ascending=False)\n",
        "    top_5_films = result_df.head(5)\n",
        "\n",
        "    # Get the poster URL of the most similar movie\n",
        "    most_similar_title = top_5_films.iloc[0]['Film']\n",
        "    try:\n",
        "        most_similar_poster = get_poster(most_similar_title)\n",
        "    except Exception as e:\n",
        "        return {\"Error\": str(e)}\n",
        "\n",
        "    # Get the image content from the URL\n",
        "    try:\n",
        "        image_content = requests.get(most_similar_poster).content\n",
        "    except Exception as e:\n",
        "        return {\"Error\": str(e)}\n",
        "\n",
        "    # Create a PIL Image object from the bytes\n",
        "    try:\n",
        "        image = Image.open(io.BytesIO(image_content))\n",
        "    except Exception as e:\n",
        "        return {\"Error\": str(e)}\n",
        "\n",
        "    # Return the PIL Image object\n",
        "    return image\n",
        "\n",
        "\n",
        "\n",
        "def get_poster(movie):\n",
        "    \"\"\" \n",
        "    Devuelve la ruta al poster en jpg\n",
        "    \n",
        "    Args:\n",
        "        movie (str): El título de la película\n",
        "    \"\"\"\n",
        "    movie = movie.lower().replace(\" \", \"+\")\n",
        "    result = requests.get(url_omdb + movie)\n",
        "    result_json = result.json()\n",
        "    return result_json['Poster']\n",
        "\n",
        "input_text = gr.Textbox(label=\"Enter Movie Title\")\n",
        "output_posters = gr.Image()\n",
        "\n",
        "# Create Gradio Interface for finding similar films\n",
        "find_similar_films_interface = gr.Interface(fn=find_similar_films, inputs=input_text, outputs=output_posters, title='Aplicacion de paliculas', description='this app helps you reccomending movies based \\\n",
        "                                            on the movies you previously liked')\n",
        "\n",
        "# Launch the interface\n",
        "find_similar_films_interface.launch()\n",
        "\n",
        "\n",
        "\n",
        "\n",
        "\n",
        "\n"
      ]
    },
    {
      "cell_type": "code",
      "execution_count": 20,
      "metadata": {},
      "outputs": [
        {
          "name": "stdout",
          "output_type": "stream",
          "text": [
            "Running on local URL:  http://127.0.0.1:7871\n"
          ]
        },
        {
          "name": "stderr",
          "output_type": "stream",
          "text": [
            "huggingface/tokenizers: The current process just got forked, after parallelism has already been used. Disabling parallelism to avoid deadlocks...\n",
            "To disable this warning, you can either:\n",
            "\t- Avoid using `tokenizers` before the fork if possible\n",
            "\t- Explicitly set the environment variable TOKENIZERS_PARALLELISM=(true | false)\n"
          ]
        },
        {
          "name": "stdout",
          "output_type": "stream",
          "text": [
            "\n",
            "Could not create share link. Missing file: /Users/gustavo.aguado/anaconda3/envs/base_ml/lib/python3.9/site-packages/gradio/frpc_darwin_arm64_v0.2. \n",
            "\n",
            "Please check your internet connection. This can happen if your antivirus software blocks the download of this file. You can install manually by following these steps: \n",
            "\n",
            "1. Download this file: https://cdn-media.huggingface.co/frpc-gradio-0.2/frpc_darwin_arm64\n",
            "2. Rename the downloaded file to: frpc_darwin_arm64_v0.2\n",
            "3. Move the file to this location: /Users/gustavo.aguado/anaconda3/envs/base_ml/lib/python3.9/site-packages/gradio\n"
          ]
        },
        {
          "name": "stderr",
          "output_type": "stream",
          "text": [
            "\n"
          ]
        },
        {
          "data": {
            "text/html": [
              "<div><iframe src=\"http://127.0.0.1:7871/\" width=\"100%\" height=\"500\" allow=\"autoplay; camera; microphone; clipboard-read; clipboard-write;\" frameborder=\"0\" allowfullscreen></iframe></div>"
            ],
            "text/plain": [
              "<IPython.core.display.HTML object>"
            ]
          },
          "metadata": {},
          "output_type": "display_data"
        },
        {
          "name": "stderr",
          "output_type": "stream",
          "text": [
            "Traceback (most recent call last):\n",
            "  File \"/Users/gustavo.aguado/anaconda3/envs/base_ml/lib/python3.9/site-packages/gradio/queueing.py\", line 495, in call_prediction\n",
            "    output = await route_utils.call_process_api(\n",
            "  File \"/Users/gustavo.aguado/anaconda3/envs/base_ml/lib/python3.9/site-packages/gradio/route_utils.py\", line 232, in call_process_api\n",
            "    output = await app.get_blocks().process_api(\n",
            "  File \"/Users/gustavo.aguado/anaconda3/envs/base_ml/lib/python3.9/site-packages/gradio/blocks.py\", line 1570, in process_api\n",
            "    data = self.postprocess_data(fn_index, result[\"prediction\"], state)\n",
            "  File \"/Users/gustavo.aguado/anaconda3/envs/base_ml/lib/python3.9/site-packages/gradio/blocks.py\", line 1456, in postprocess_data\n",
            "    outputs_cached = processing_utils.move_files_to_cache(\n",
            "  File \"/Users/gustavo.aguado/anaconda3/envs/base_ml/lib/python3.9/site-packages/gradio/processing_utils.py\", line 265, in move_files_to_cache\n",
            "    return client_utils.traverse(data, _move_to_cache, client_utils.is_file_obj)\n",
            "  File \"/Users/gustavo.aguado/anaconda3/envs/base_ml/lib/python3.9/site-packages/gradio_client/utils.py\", line 919, in traverse\n",
            "    return func(json_obj)\n",
            "  File \"/Users/gustavo.aguado/anaconda3/envs/base_ml/lib/python3.9/site-packages/gradio/processing_utils.py\", line 257, in _move_to_cache\n",
            "    temp_file_path = move_resource_to_block_cache(payload.path, block)\n",
            "  File \"/Users/gustavo.aguado/anaconda3/envs/base_ml/lib/python3.9/site-packages/gradio/processing_utils.py\", line 234, in move_resource_to_block_cache\n",
            "    return block.move_resource_to_block_cache(url_or_file_path)\n",
            "  File \"/Users/gustavo.aguado/anaconda3/envs/base_ml/lib/python3.9/site-packages/gradio/blocks.py\", line 258, in move_resource_to_block_cache\n",
            "    temp_file_path = processing_utils.save_file_to_cache(\n",
            "  File \"/Users/gustavo.aguado/anaconda3/envs/base_ml/lib/python3.9/site-packages/gradio/processing_utils.py\", line 170, in save_file_to_cache\n",
            "    temp_dir = hash_file(file_path)\n",
            "  File \"/Users/gustavo.aguado/anaconda3/envs/base_ml/lib/python3.9/site-packages/gradio/processing_utils.py\", line 102, in hash_file\n",
            "    with open(file_path, \"rb\") as f:\n",
            "FileNotFoundError: [Errno 2] No such file or directory: '/Users/gustavo.aguado/Desktop/proyectos_python/PROYECTOSPYTHON/proyecto_peliculas/Film overview not available or invalid.'\n",
            "Traceback (most recent call last):\n",
            "  File \"/Users/gustavo.aguado/anaconda3/envs/base_ml/lib/python3.9/site-packages/gradio/queueing.py\", line 495, in call_prediction\n",
            "    output = await route_utils.call_process_api(\n",
            "  File \"/Users/gustavo.aguado/anaconda3/envs/base_ml/lib/python3.9/site-packages/gradio/route_utils.py\", line 232, in call_process_api\n",
            "    output = await app.get_blocks().process_api(\n",
            "  File \"/Users/gustavo.aguado/anaconda3/envs/base_ml/lib/python3.9/site-packages/gradio/blocks.py\", line 1570, in process_api\n",
            "    data = self.postprocess_data(fn_index, result[\"prediction\"], state)\n",
            "  File \"/Users/gustavo.aguado/anaconda3/envs/base_ml/lib/python3.9/site-packages/gradio/blocks.py\", line 1456, in postprocess_data\n",
            "    outputs_cached = processing_utils.move_files_to_cache(\n",
            "  File \"/Users/gustavo.aguado/anaconda3/envs/base_ml/lib/python3.9/site-packages/gradio/processing_utils.py\", line 265, in move_files_to_cache\n",
            "    return client_utils.traverse(data, _move_to_cache, client_utils.is_file_obj)\n",
            "  File \"/Users/gustavo.aguado/anaconda3/envs/base_ml/lib/python3.9/site-packages/gradio_client/utils.py\", line 919, in traverse\n",
            "    return func(json_obj)\n",
            "  File \"/Users/gustavo.aguado/anaconda3/envs/base_ml/lib/python3.9/site-packages/gradio/processing_utils.py\", line 257, in _move_to_cache\n",
            "    temp_file_path = move_resource_to_block_cache(payload.path, block)\n",
            "  File \"/Users/gustavo.aguado/anaconda3/envs/base_ml/lib/python3.9/site-packages/gradio/processing_utils.py\", line 234, in move_resource_to_block_cache\n",
            "    return block.move_resource_to_block_cache(url_or_file_path)\n",
            "  File \"/Users/gustavo.aguado/anaconda3/envs/base_ml/lib/python3.9/site-packages/gradio/blocks.py\", line 258, in move_resource_to_block_cache\n",
            "    temp_file_path = processing_utils.save_file_to_cache(\n",
            "  File \"/Users/gustavo.aguado/anaconda3/envs/base_ml/lib/python3.9/site-packages/gradio/processing_utils.py\", line 170, in save_file_to_cache\n",
            "    temp_dir = hash_file(file_path)\n",
            "  File \"/Users/gustavo.aguado/anaconda3/envs/base_ml/lib/python3.9/site-packages/gradio/processing_utils.py\", line 102, in hash_file\n",
            "    with open(file_path, \"rb\") as f:\n",
            "FileNotFoundError: [Errno 2] No such file or directory: '/Users/gustavo.aguado/Desktop/proyectos_python/PROYECTOSPYTHON/proyecto_peliculas/Film overview not available or invalid.'\n",
            "Traceback (most recent call last):\n",
            "  File \"/Users/gustavo.aguado/anaconda3/envs/base_ml/lib/python3.9/site-packages/gradio/queueing.py\", line 495, in call_prediction\n",
            "    output = await route_utils.call_process_api(\n",
            "  File \"/Users/gustavo.aguado/anaconda3/envs/base_ml/lib/python3.9/site-packages/gradio/route_utils.py\", line 232, in call_process_api\n",
            "    output = await app.get_blocks().process_api(\n",
            "  File \"/Users/gustavo.aguado/anaconda3/envs/base_ml/lib/python3.9/site-packages/gradio/blocks.py\", line 1570, in process_api\n",
            "    data = self.postprocess_data(fn_index, result[\"prediction\"], state)\n",
            "  File \"/Users/gustavo.aguado/anaconda3/envs/base_ml/lib/python3.9/site-packages/gradio/blocks.py\", line 1456, in postprocess_data\n",
            "    outputs_cached = processing_utils.move_files_to_cache(\n",
            "  File \"/Users/gustavo.aguado/anaconda3/envs/base_ml/lib/python3.9/site-packages/gradio/processing_utils.py\", line 265, in move_files_to_cache\n",
            "    return client_utils.traverse(data, _move_to_cache, client_utils.is_file_obj)\n",
            "  File \"/Users/gustavo.aguado/anaconda3/envs/base_ml/lib/python3.9/site-packages/gradio_client/utils.py\", line 919, in traverse\n",
            "    return func(json_obj)\n",
            "  File \"/Users/gustavo.aguado/anaconda3/envs/base_ml/lib/python3.9/site-packages/gradio/processing_utils.py\", line 257, in _move_to_cache\n",
            "    temp_file_path = move_resource_to_block_cache(payload.path, block)\n",
            "  File \"/Users/gustavo.aguado/anaconda3/envs/base_ml/lib/python3.9/site-packages/gradio/processing_utils.py\", line 234, in move_resource_to_block_cache\n",
            "    return block.move_resource_to_block_cache(url_or_file_path)\n",
            "  File \"/Users/gustavo.aguado/anaconda3/envs/base_ml/lib/python3.9/site-packages/gradio/blocks.py\", line 258, in move_resource_to_block_cache\n",
            "    temp_file_path = processing_utils.save_file_to_cache(\n",
            "  File \"/Users/gustavo.aguado/anaconda3/envs/base_ml/lib/python3.9/site-packages/gradio/processing_utils.py\", line 170, in save_file_to_cache\n",
            "    temp_dir = hash_file(file_path)\n",
            "  File \"/Users/gustavo.aguado/anaconda3/envs/base_ml/lib/python3.9/site-packages/gradio/processing_utils.py\", line 102, in hash_file\n",
            "    with open(file_path, \"rb\") as f:\n",
            "FileNotFoundError: [Errno 2] No such file or directory: '/Users/gustavo.aguado/Desktop/proyectos_python/PROYECTOSPYTHON/proyecto_peliculas/Film overview not available or invalid.'\n",
            "Traceback (most recent call last):\n",
            "  File \"/Users/gustavo.aguado/anaconda3/envs/base_ml/lib/python3.9/site-packages/gradio/queueing.py\", line 495, in call_prediction\n",
            "    output = await route_utils.call_process_api(\n",
            "  File \"/Users/gustavo.aguado/anaconda3/envs/base_ml/lib/python3.9/site-packages/gradio/route_utils.py\", line 232, in call_process_api\n",
            "    output = await app.get_blocks().process_api(\n",
            "  File \"/Users/gustavo.aguado/anaconda3/envs/base_ml/lib/python3.9/site-packages/gradio/blocks.py\", line 1570, in process_api\n",
            "    data = self.postprocess_data(fn_index, result[\"prediction\"], state)\n",
            "  File \"/Users/gustavo.aguado/anaconda3/envs/base_ml/lib/python3.9/site-packages/gradio/blocks.py\", line 1456, in postprocess_data\n",
            "    outputs_cached = processing_utils.move_files_to_cache(\n",
            "  File \"/Users/gustavo.aguado/anaconda3/envs/base_ml/lib/python3.9/site-packages/gradio/processing_utils.py\", line 265, in move_files_to_cache\n",
            "    return client_utils.traverse(data, _move_to_cache, client_utils.is_file_obj)\n",
            "  File \"/Users/gustavo.aguado/anaconda3/envs/base_ml/lib/python3.9/site-packages/gradio_client/utils.py\", line 919, in traverse\n",
            "    return func(json_obj)\n",
            "  File \"/Users/gustavo.aguado/anaconda3/envs/base_ml/lib/python3.9/site-packages/gradio/processing_utils.py\", line 257, in _move_to_cache\n",
            "    temp_file_path = move_resource_to_block_cache(payload.path, block)\n",
            "  File \"/Users/gustavo.aguado/anaconda3/envs/base_ml/lib/python3.9/site-packages/gradio/processing_utils.py\", line 234, in move_resource_to_block_cache\n",
            "    return block.move_resource_to_block_cache(url_or_file_path)\n",
            "  File \"/Users/gustavo.aguado/anaconda3/envs/base_ml/lib/python3.9/site-packages/gradio/blocks.py\", line 258, in move_resource_to_block_cache\n",
            "    temp_file_path = processing_utils.save_file_to_cache(\n",
            "  File \"/Users/gustavo.aguado/anaconda3/envs/base_ml/lib/python3.9/site-packages/gradio/processing_utils.py\", line 170, in save_file_to_cache\n",
            "    temp_dir = hash_file(file_path)\n",
            "  File \"/Users/gustavo.aguado/anaconda3/envs/base_ml/lib/python3.9/site-packages/gradio/processing_utils.py\", line 102, in hash_file\n",
            "    with open(file_path, \"rb\") as f:\n",
            "FileNotFoundError: [Errno 2] No such file or directory: '/Users/gustavo.aguado/Desktop/proyectos_python/PROYECTOSPYTHON/proyecto_peliculas/Film overview not available or invalid.'\n",
            "Traceback (most recent call last):\n",
            "  File \"/Users/gustavo.aguado/anaconda3/envs/base_ml/lib/python3.9/site-packages/gradio/queueing.py\", line 495, in call_prediction\n",
            "    output = await route_utils.call_process_api(\n",
            "  File \"/Users/gustavo.aguado/anaconda3/envs/base_ml/lib/python3.9/site-packages/gradio/route_utils.py\", line 232, in call_process_api\n",
            "    output = await app.get_blocks().process_api(\n",
            "  File \"/Users/gustavo.aguado/anaconda3/envs/base_ml/lib/python3.9/site-packages/gradio/blocks.py\", line 1570, in process_api\n",
            "    data = self.postprocess_data(fn_index, result[\"prediction\"], state)\n",
            "  File \"/Users/gustavo.aguado/anaconda3/envs/base_ml/lib/python3.9/site-packages/gradio/blocks.py\", line 1456, in postprocess_data\n",
            "    outputs_cached = processing_utils.move_files_to_cache(\n",
            "  File \"/Users/gustavo.aguado/anaconda3/envs/base_ml/lib/python3.9/site-packages/gradio/processing_utils.py\", line 265, in move_files_to_cache\n",
            "    return client_utils.traverse(data, _move_to_cache, client_utils.is_file_obj)\n",
            "  File \"/Users/gustavo.aguado/anaconda3/envs/base_ml/lib/python3.9/site-packages/gradio_client/utils.py\", line 919, in traverse\n",
            "    return func(json_obj)\n",
            "  File \"/Users/gustavo.aguado/anaconda3/envs/base_ml/lib/python3.9/site-packages/gradio/processing_utils.py\", line 257, in _move_to_cache\n",
            "    temp_file_path = move_resource_to_block_cache(payload.path, block)\n",
            "  File \"/Users/gustavo.aguado/anaconda3/envs/base_ml/lib/python3.9/site-packages/gradio/processing_utils.py\", line 234, in move_resource_to_block_cache\n",
            "    return block.move_resource_to_block_cache(url_or_file_path)\n",
            "  File \"/Users/gustavo.aguado/anaconda3/envs/base_ml/lib/python3.9/site-packages/gradio/blocks.py\", line 258, in move_resource_to_block_cache\n",
            "    temp_file_path = processing_utils.save_file_to_cache(\n",
            "  File \"/Users/gustavo.aguado/anaconda3/envs/base_ml/lib/python3.9/site-packages/gradio/processing_utils.py\", line 170, in save_file_to_cache\n",
            "    temp_dir = hash_file(file_path)\n",
            "  File \"/Users/gustavo.aguado/anaconda3/envs/base_ml/lib/python3.9/site-packages/gradio/processing_utils.py\", line 102, in hash_file\n",
            "    with open(file_path, \"rb\") as f:\n",
            "FileNotFoundError: [Errno 2] No such file or directory: '/Users/gustavo.aguado/Desktop/proyectos_python/PROYECTOSPYTHON/proyecto_peliculas/Film overview not available or invalid.'\n",
            "Traceback (most recent call last):\n",
            "  File \"/Users/gustavo.aguado/anaconda3/envs/base_ml/lib/python3.9/site-packages/gradio/queueing.py\", line 495, in call_prediction\n",
            "    output = await route_utils.call_process_api(\n",
            "  File \"/Users/gustavo.aguado/anaconda3/envs/base_ml/lib/python3.9/site-packages/gradio/route_utils.py\", line 232, in call_process_api\n",
            "    output = await app.get_blocks().process_api(\n",
            "  File \"/Users/gustavo.aguado/anaconda3/envs/base_ml/lib/python3.9/site-packages/gradio/blocks.py\", line 1570, in process_api\n",
            "    data = self.postprocess_data(fn_index, result[\"prediction\"], state)\n",
            "  File \"/Users/gustavo.aguado/anaconda3/envs/base_ml/lib/python3.9/site-packages/gradio/blocks.py\", line 1456, in postprocess_data\n",
            "    outputs_cached = processing_utils.move_files_to_cache(\n",
            "  File \"/Users/gustavo.aguado/anaconda3/envs/base_ml/lib/python3.9/site-packages/gradio/processing_utils.py\", line 265, in move_files_to_cache\n",
            "    return client_utils.traverse(data, _move_to_cache, client_utils.is_file_obj)\n",
            "  File \"/Users/gustavo.aguado/anaconda3/envs/base_ml/lib/python3.9/site-packages/gradio_client/utils.py\", line 919, in traverse\n",
            "    return func(json_obj)\n",
            "  File \"/Users/gustavo.aguado/anaconda3/envs/base_ml/lib/python3.9/site-packages/gradio/processing_utils.py\", line 257, in _move_to_cache\n",
            "    temp_file_path = move_resource_to_block_cache(payload.path, block)\n",
            "  File \"/Users/gustavo.aguado/anaconda3/envs/base_ml/lib/python3.9/site-packages/gradio/processing_utils.py\", line 234, in move_resource_to_block_cache\n",
            "    return block.move_resource_to_block_cache(url_or_file_path)\n",
            "  File \"/Users/gustavo.aguado/anaconda3/envs/base_ml/lib/python3.9/site-packages/gradio/blocks.py\", line 258, in move_resource_to_block_cache\n",
            "    temp_file_path = processing_utils.save_file_to_cache(\n",
            "  File \"/Users/gustavo.aguado/anaconda3/envs/base_ml/lib/python3.9/site-packages/gradio/processing_utils.py\", line 170, in save_file_to_cache\n",
            "    temp_dir = hash_file(file_path)\n",
            "  File \"/Users/gustavo.aguado/anaconda3/envs/base_ml/lib/python3.9/site-packages/gradio/processing_utils.py\", line 102, in hash_file\n",
            "    with open(file_path, \"rb\") as f:\n",
            "FileNotFoundError: [Errno 2] No such file or directory: '/Users/gustavo.aguado/Desktop/proyectos_python/PROYECTOSPYTHON/proyecto_peliculas/Film overview not available or invalid.'\n",
            "Traceback (most recent call last):\n",
            "  File \"/Users/gustavo.aguado/anaconda3/envs/base_ml/lib/python3.9/site-packages/gradio/queueing.py\", line 495, in call_prediction\n",
            "    output = await route_utils.call_process_api(\n",
            "  File \"/Users/gustavo.aguado/anaconda3/envs/base_ml/lib/python3.9/site-packages/gradio/route_utils.py\", line 232, in call_process_api\n",
            "    output = await app.get_blocks().process_api(\n",
            "  File \"/Users/gustavo.aguado/anaconda3/envs/base_ml/lib/python3.9/site-packages/gradio/blocks.py\", line 1570, in process_api\n",
            "    data = self.postprocess_data(fn_index, result[\"prediction\"], state)\n",
            "  File \"/Users/gustavo.aguado/anaconda3/envs/base_ml/lib/python3.9/site-packages/gradio/blocks.py\", line 1456, in postprocess_data\n",
            "    outputs_cached = processing_utils.move_files_to_cache(\n",
            "  File \"/Users/gustavo.aguado/anaconda3/envs/base_ml/lib/python3.9/site-packages/gradio/processing_utils.py\", line 265, in move_files_to_cache\n",
            "    return client_utils.traverse(data, _move_to_cache, client_utils.is_file_obj)\n",
            "  File \"/Users/gustavo.aguado/anaconda3/envs/base_ml/lib/python3.9/site-packages/gradio_client/utils.py\", line 919, in traverse\n",
            "    return func(json_obj)\n",
            "  File \"/Users/gustavo.aguado/anaconda3/envs/base_ml/lib/python3.9/site-packages/gradio/processing_utils.py\", line 257, in _move_to_cache\n",
            "    temp_file_path = move_resource_to_block_cache(payload.path, block)\n",
            "  File \"/Users/gustavo.aguado/anaconda3/envs/base_ml/lib/python3.9/site-packages/gradio/processing_utils.py\", line 234, in move_resource_to_block_cache\n",
            "    return block.move_resource_to_block_cache(url_or_file_path)\n",
            "  File \"/Users/gustavo.aguado/anaconda3/envs/base_ml/lib/python3.9/site-packages/gradio/blocks.py\", line 258, in move_resource_to_block_cache\n",
            "    temp_file_path = processing_utils.save_file_to_cache(\n",
            "  File \"/Users/gustavo.aguado/anaconda3/envs/base_ml/lib/python3.9/site-packages/gradio/processing_utils.py\", line 170, in save_file_to_cache\n",
            "    temp_dir = hash_file(file_path)\n",
            "  File \"/Users/gustavo.aguado/anaconda3/envs/base_ml/lib/python3.9/site-packages/gradio/processing_utils.py\", line 102, in hash_file\n",
            "    with open(file_path, \"rb\") as f:\n",
            "FileNotFoundError: [Errno 2] No such file or directory: '/Users/gustavo.aguado/Desktop/proyectos_python/PROYECTOSPYTHON/proyecto_peliculas/Film overview not available or invalid.'\n",
            "Traceback (most recent call last):\n",
            "  File \"/Users/gustavo.aguado/anaconda3/envs/base_ml/lib/python3.9/site-packages/gradio/queueing.py\", line 495, in call_prediction\n",
            "    output = await route_utils.call_process_api(\n",
            "  File \"/Users/gustavo.aguado/anaconda3/envs/base_ml/lib/python3.9/site-packages/gradio/route_utils.py\", line 232, in call_process_api\n",
            "    output = await app.get_blocks().process_api(\n",
            "  File \"/Users/gustavo.aguado/anaconda3/envs/base_ml/lib/python3.9/site-packages/gradio/blocks.py\", line 1570, in process_api\n",
            "    data = self.postprocess_data(fn_index, result[\"prediction\"], state)\n",
            "  File \"/Users/gustavo.aguado/anaconda3/envs/base_ml/lib/python3.9/site-packages/gradio/blocks.py\", line 1456, in postprocess_data\n",
            "    outputs_cached = processing_utils.move_files_to_cache(\n",
            "  File \"/Users/gustavo.aguado/anaconda3/envs/base_ml/lib/python3.9/site-packages/gradio/processing_utils.py\", line 265, in move_files_to_cache\n",
            "    return client_utils.traverse(data, _move_to_cache, client_utils.is_file_obj)\n",
            "  File \"/Users/gustavo.aguado/anaconda3/envs/base_ml/lib/python3.9/site-packages/gradio_client/utils.py\", line 919, in traverse\n",
            "    return func(json_obj)\n",
            "  File \"/Users/gustavo.aguado/anaconda3/envs/base_ml/lib/python3.9/site-packages/gradio/processing_utils.py\", line 257, in _move_to_cache\n",
            "    temp_file_path = move_resource_to_block_cache(payload.path, block)\n",
            "  File \"/Users/gustavo.aguado/anaconda3/envs/base_ml/lib/python3.9/site-packages/gradio/processing_utils.py\", line 234, in move_resource_to_block_cache\n",
            "    return block.move_resource_to_block_cache(url_or_file_path)\n",
            "  File \"/Users/gustavo.aguado/anaconda3/envs/base_ml/lib/python3.9/site-packages/gradio/blocks.py\", line 258, in move_resource_to_block_cache\n",
            "    temp_file_path = processing_utils.save_file_to_cache(\n",
            "  File \"/Users/gustavo.aguado/anaconda3/envs/base_ml/lib/python3.9/site-packages/gradio/processing_utils.py\", line 170, in save_file_to_cache\n",
            "    temp_dir = hash_file(file_path)\n",
            "  File \"/Users/gustavo.aguado/anaconda3/envs/base_ml/lib/python3.9/site-packages/gradio/processing_utils.py\", line 102, in hash_file\n",
            "    with open(file_path, \"rb\") as f:\n",
            "FileNotFoundError: [Errno 2] No such file or directory: '/Users/gustavo.aguado/Desktop/proyectos_python/PROYECTOSPYTHON/proyecto_peliculas/Film overview not available or invalid.'\n"
          ]
        }
      ],
      "source": [
        "# HTML code for custom styling\n",
        "html_code = \"\"\"\n",
        "<style>\n",
        "    body {\n",
        "        font-family: Arial, sans-serif;\n",
        "    }\n",
        "\n",
        "    .gr-interface {\n",
        "        max-width: 800px;\n",
        "        margin: auto;\n",
        "    }\n",
        "\n",
        "    .gr-title {\n",
        "        font-size: 24px;\n",
        "        font-weight: bold;\n",
        "        margin-bottom: 10px;\n",
        "    }\n",
        "\n",
        "    .gr-description {\n",
        "        font-size: 16px;\n",
        "        margin-bottom: 20px;\n",
        "    }\n",
        "\n",
        "    .gr-textbox {\n",
        "        width: 100%;\n",
        "        margin-bottom: 20px;\n",
        "    }\n",
        "\n",
        "    .gr-output {\n",
        "        display: flex;\n",
        "        justify-content: space-between;\n",
        "        flex-wrap: wrap;\n",
        "    }\n",
        "\n",
        "    .gr-image {\n",
        "        width: 150px;\n",
        "        margin-bottom: 10px;\n",
        "    }\n",
        "</style>\n",
        "\"\"\"\n",
        "\n",
        "# Create Gradio Interface for finding similar films with custom HTML styling\n",
        "find_similar_films_interface = gr.Interface(\n",
        "    fn=find_similar_films, \n",
        "    inputs=input_text, \n",
        "    outputs=output_posters, \n",
        "    live=True,\n",
        "    title='Movie Recommendation App <style>.gr-title { color: #3498db; }</style>',\n",
        "    description='This app helps you discover movies similar to the ones you like.'\n",
        ")\n",
        "\n",
        "# Launch the interface\n",
        "find_similar_films_interface.launch(share=True, debug=True)\n"
      ]
    },
    {
      "cell_type": "code",
      "execution_count": 17,
      "metadata": {
        "colab": {
          "base_uri": "https://localhost:8080/",
          "height": 137
        },
        "id": "pirybhnVPStE",
        "outputId": "89aea424-5135-469c-e74a-9b0966ce7b56"
      },
      "outputs": [
        {
          "name": "stdout",
          "output_type": "stream",
          "text": [
            "                     Film  Similarity Score\n",
            "0               Toy Story          1.000000\n",
            "1                 Jumanji          0.782915\n",
            "94     A Midwinter's Tale          0.757052\n",
            "6                 Sabrina          0.747536\n",
            "71  Kicking and Screaming          0.738529\n"
          ]
        },
        {
          "data": {
            "application/vnd.google.colaboratory.intrinsic+json": {
              "type": "string"
            },
            "text/plain": [
              "\"Toy Story\\nJumanji\\nA Midwinter's Tale\\nSabrina\\nKicking and Screaming\""
            ]
          },
          "execution_count": 17,
          "metadata": {},
          "output_type": "execute_result"
        }
      ],
      "source": [
        "find_similar_films('Toy Story')"
      ]
    }
  ],
  "metadata": {
    "accelerator": "GPU",
    "colab": {
      "gpuType": "T4",
      "provenance": []
    },
    "kernelspec": {
      "display_name": "Python 3",
      "name": "python3"
    },
    "language_info": {
      "codemirror_mode": {
        "name": "ipython",
        "version": 3
      },
      "file_extension": ".py",
      "mimetype": "text/x-python",
      "name": "python",
      "nbconvert_exporter": "python",
      "pygments_lexer": "ipython3",
      "version": "3.9.18"
    }
  },
  "nbformat": 4,
  "nbformat_minor": 0
}
